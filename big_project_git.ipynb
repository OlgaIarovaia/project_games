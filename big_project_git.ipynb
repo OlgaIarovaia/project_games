{
 "cells": [
  {
   "cell_type": "markdown",
   "id": "bda7229a",
   "metadata": {},
   "source": [
    "# Исходные данные"
   ]
  },
  {
   "cell_type": "markdown",
   "id": "f8062795",
   "metadata": {},
   "source": [
    "Таблица с данными за 1980-2016 года"
   ]
  },
  {
   "cell_type": "markdown",
   "id": "62ba4b44",
   "metadata": {},
   "source": [
    " Колонки:\n",
    " \n",
    " - Name — название игры\n",
    " - Platform — платформа\n",
    " - Year_of_Release — год выпуска\n",
    " - Genre — жанр игры\n",
    " - NA_sales — продажи в Северной Америке (миллионы проданных копий)\n",
    " - EU_sales — продажи в Европе (миллионы проданных копий)\n",
    " - JP_sales — продажи в Японии (миллионы проданных копий)\n",
    " - Other_sales — продажи в других странах (миллионы проданных копий)\n",
    " - Critic_Score — оценка критиков (максимум 100)\n",
    " - User_Score — оценка пользователей (максимум 10)\n",
    " - Rating — рейтинг от организации ESRB (англ. Entertainment Software Rating Board). Эта ассоциация определяет рейтинг компьютерных игр и присваивает им подходящую возрастную категорию."
   ]
  },
  {
   "cell_type": "markdown",
   "id": "88743d52",
   "metadata": {},
   "source": [
    "# Задачи"
   ]
  },
  {
   "cell_type": "markdown",
   "id": "c28f677f",
   "metadata": {},
   "source": [
    " - Выявить определяющие успешность игры закономерности для вывода потенциально популярного продукта и планирования рекламных кампаний. *Прогноз необходим на 2017 год*\n",
    " - Проверить гипотезы:\n",
    "    - Средние пользовательские рейтинги платформ Xbox One и PC одинаковые\n",
    "    - Средние пользовательские рейтинги жанров Action и Sports одинаковые"
   ]
  },
  {
   "cell_type": "markdown",
   "id": "e885b6ea",
   "metadata": {},
   "source": [
    "# Ход работы"
   ]
  },
  {
   "cell_type": "code",
   "execution_count": 1,
   "id": "01af85ac",
   "metadata": {},
   "outputs": [],
   "source": [
    "# импорт библиотек\n",
    "\n",
    "import pandas as pd\n",
    "import matplotlib.pyplot as plt\n",
    "import seaborn as sns\n",
    "from scipy import stats as st"
   ]
  },
  {
   "cell_type": "code",
   "execution_count": 2,
   "id": "3fd942d2",
   "metadata": {},
   "outputs": [],
   "source": [
    "# открываем файл\n",
    "\n",
    "try:\n",
    "    df_games = pd.read_csv('games.csv')\n",
    "except:\n",
    "    df_games = pd.read_csv('Сборный проект 1\\games.csv')  "
   ]
  },
  {
   "cell_type": "markdown",
   "id": "518fa2ce",
   "metadata": {},
   "source": [
    "## Обзор данных"
   ]
  },
  {
   "cell_type": "code",
   "execution_count": 3,
   "id": "bcc50f8b",
   "metadata": {},
   "outputs": [
    {
     "data": {
      "text/html": [
       "<div>\n",
       "<style scoped>\n",
       "    .dataframe tbody tr th:only-of-type {\n",
       "        vertical-align: middle;\n",
       "    }\n",
       "\n",
       "    .dataframe tbody tr th {\n",
       "        vertical-align: top;\n",
       "    }\n",
       "\n",
       "    .dataframe thead th {\n",
       "        text-align: right;\n",
       "    }\n",
       "</style>\n",
       "<table border=\"1\" class=\"dataframe\">\n",
       "  <thead>\n",
       "    <tr style=\"text-align: right;\">\n",
       "      <th></th>\n",
       "      <th>Name</th>\n",
       "      <th>Platform</th>\n",
       "      <th>Year_of_Release</th>\n",
       "      <th>Genre</th>\n",
       "      <th>NA_sales</th>\n",
       "      <th>EU_sales</th>\n",
       "      <th>JP_sales</th>\n",
       "      <th>Other_sales</th>\n",
       "      <th>Critic_Score</th>\n",
       "      <th>User_Score</th>\n",
       "      <th>Rating</th>\n",
       "    </tr>\n",
       "  </thead>\n",
       "  <tbody>\n",
       "    <tr>\n",
       "      <th>0</th>\n",
       "      <td>Wii Sports</td>\n",
       "      <td>Wii</td>\n",
       "      <td>2006.0</td>\n",
       "      <td>Sports</td>\n",
       "      <td>41.36</td>\n",
       "      <td>28.96</td>\n",
       "      <td>3.77</td>\n",
       "      <td>8.45</td>\n",
       "      <td>76.0</td>\n",
       "      <td>8</td>\n",
       "      <td>E</td>\n",
       "    </tr>\n",
       "    <tr>\n",
       "      <th>1</th>\n",
       "      <td>Super Mario Bros.</td>\n",
       "      <td>NES</td>\n",
       "      <td>1985.0</td>\n",
       "      <td>Platform</td>\n",
       "      <td>29.08</td>\n",
       "      <td>3.58</td>\n",
       "      <td>6.81</td>\n",
       "      <td>0.77</td>\n",
       "      <td>NaN</td>\n",
       "      <td>NaN</td>\n",
       "      <td>NaN</td>\n",
       "    </tr>\n",
       "    <tr>\n",
       "      <th>2</th>\n",
       "      <td>Mario Kart Wii</td>\n",
       "      <td>Wii</td>\n",
       "      <td>2008.0</td>\n",
       "      <td>Racing</td>\n",
       "      <td>15.68</td>\n",
       "      <td>12.76</td>\n",
       "      <td>3.79</td>\n",
       "      <td>3.29</td>\n",
       "      <td>82.0</td>\n",
       "      <td>8.3</td>\n",
       "      <td>E</td>\n",
       "    </tr>\n",
       "    <tr>\n",
       "      <th>3</th>\n",
       "      <td>Wii Sports Resort</td>\n",
       "      <td>Wii</td>\n",
       "      <td>2009.0</td>\n",
       "      <td>Sports</td>\n",
       "      <td>15.61</td>\n",
       "      <td>10.93</td>\n",
       "      <td>3.28</td>\n",
       "      <td>2.95</td>\n",
       "      <td>80.0</td>\n",
       "      <td>8</td>\n",
       "      <td>E</td>\n",
       "    </tr>\n",
       "    <tr>\n",
       "      <th>4</th>\n",
       "      <td>Pokemon Red/Pokemon Blue</td>\n",
       "      <td>GB</td>\n",
       "      <td>1996.0</td>\n",
       "      <td>Role-Playing</td>\n",
       "      <td>11.27</td>\n",
       "      <td>8.89</td>\n",
       "      <td>10.22</td>\n",
       "      <td>1.00</td>\n",
       "      <td>NaN</td>\n",
       "      <td>NaN</td>\n",
       "      <td>NaN</td>\n",
       "    </tr>\n",
       "  </tbody>\n",
       "</table>\n",
       "</div>"
      ],
      "text/plain": [
       "                       Name Platform  Year_of_Release         Genre  NA_sales  \\\n",
       "0                Wii Sports      Wii           2006.0        Sports     41.36   \n",
       "1         Super Mario Bros.      NES           1985.0      Platform     29.08   \n",
       "2            Mario Kart Wii      Wii           2008.0        Racing     15.68   \n",
       "3         Wii Sports Resort      Wii           2009.0        Sports     15.61   \n",
       "4  Pokemon Red/Pokemon Blue       GB           1996.0  Role-Playing     11.27   \n",
       "\n",
       "   EU_sales  JP_sales  Other_sales  Critic_Score User_Score Rating  \n",
       "0     28.96      3.77         8.45          76.0          8      E  \n",
       "1      3.58      6.81         0.77           NaN        NaN    NaN  \n",
       "2     12.76      3.79         3.29          82.0        8.3      E  \n",
       "3     10.93      3.28         2.95          80.0          8      E  \n",
       "4      8.89     10.22         1.00           NaN        NaN    NaN  "
      ]
     },
     "execution_count": 3,
     "metadata": {},
     "output_type": "execute_result"
    }
   ],
   "source": [
    "df_games.head()"
   ]
  },
  {
   "cell_type": "code",
   "execution_count": 4,
   "id": "28cb28cf",
   "metadata": {},
   "outputs": [
    {
     "name": "stdout",
     "output_type": "stream",
     "text": [
      "<class 'pandas.core.frame.DataFrame'>\n",
      "RangeIndex: 16715 entries, 0 to 16714\n",
      "Data columns (total 11 columns):\n",
      " #   Column           Non-Null Count  Dtype  \n",
      "---  ------           --------------  -----  \n",
      " 0   Name             16713 non-null  object \n",
      " 1   Platform         16715 non-null  object \n",
      " 2   Year_of_Release  16446 non-null  float64\n",
      " 3   Genre            16713 non-null  object \n",
      " 4   NA_sales         16715 non-null  float64\n",
      " 5   EU_sales         16715 non-null  float64\n",
      " 6   JP_sales         16715 non-null  float64\n",
      " 7   Other_sales      16715 non-null  float64\n",
      " 8   Critic_Score     8137 non-null   float64\n",
      " 9   User_Score       10014 non-null  object \n",
      " 10  Rating           9949 non-null   object \n",
      "dtypes: float64(6), object(5)\n",
      "memory usage: 1.4+ MB\n"
     ]
    }
   ],
   "source": [
    "df_games.info()"
   ]
  },
  {
   "cell_type": "markdown",
   "id": "d660c89e",
   "metadata": {},
   "source": [
    "<div class=\"alert alert-info\"> \n",
    "\n",
    "*Необходима коррекция названия колонок (единый регистр), преобразования типов данных, работа с пропусками в данных*"
   ]
  },
  {
   "cell_type": "markdown",
   "id": "bfcfe463",
   "metadata": {},
   "source": [
    "## Предобработка "
   ]
  },
  {
   "cell_type": "markdown",
   "id": "2eb0d2cb",
   "metadata": {},
   "source": [
    "### Переименованиe столбцов"
   ]
  },
  {
   "cell_type": "code",
   "execution_count": 5,
   "id": "73bebda5",
   "metadata": {},
   "outputs": [],
   "source": [
    "df_games.columns = df_games.columns.str.lower()"
   ]
  },
  {
   "cell_type": "markdown",
   "id": "e02a51b6",
   "metadata": {},
   "source": [
    "###  Пропуски"
   ]
  },
  {
   "cell_type": "code",
   "execution_count": 6,
   "id": "7674d6ae",
   "metadata": {},
   "outputs": [
    {
     "data": {
      "text/html": [
       "<div>\n",
       "<style scoped>\n",
       "    .dataframe tbody tr th:only-of-type {\n",
       "        vertical-align: middle;\n",
       "    }\n",
       "\n",
       "    .dataframe tbody tr th {\n",
       "        vertical-align: top;\n",
       "    }\n",
       "\n",
       "    .dataframe thead th {\n",
       "        text-align: right;\n",
       "    }\n",
       "</style>\n",
       "<table border=\"1\" class=\"dataframe\">\n",
       "  <thead>\n",
       "    <tr style=\"text-align: right;\">\n",
       "      <th></th>\n",
       "      <th>name</th>\n",
       "      <th>platform</th>\n",
       "      <th>year_of_release</th>\n",
       "      <th>genre</th>\n",
       "      <th>na_sales</th>\n",
       "      <th>eu_sales</th>\n",
       "      <th>jp_sales</th>\n",
       "      <th>other_sales</th>\n",
       "      <th>critic_score</th>\n",
       "      <th>user_score</th>\n",
       "      <th>rating</th>\n",
       "    </tr>\n",
       "  </thead>\n",
       "  <tbody>\n",
       "    <tr>\n",
       "      <th>659</th>\n",
       "      <td>NaN</td>\n",
       "      <td>GEN</td>\n",
       "      <td>1993.0</td>\n",
       "      <td>NaN</td>\n",
       "      <td>1.78</td>\n",
       "      <td>0.53</td>\n",
       "      <td>0.00</td>\n",
       "      <td>0.08</td>\n",
       "      <td>NaN</td>\n",
       "      <td>NaN</td>\n",
       "      <td>NaN</td>\n",
       "    </tr>\n",
       "    <tr>\n",
       "      <th>14244</th>\n",
       "      <td>NaN</td>\n",
       "      <td>GEN</td>\n",
       "      <td>1993.0</td>\n",
       "      <td>NaN</td>\n",
       "      <td>0.00</td>\n",
       "      <td>0.00</td>\n",
       "      <td>0.03</td>\n",
       "      <td>0.00</td>\n",
       "      <td>NaN</td>\n",
       "      <td>NaN</td>\n",
       "      <td>NaN</td>\n",
       "    </tr>\n",
       "  </tbody>\n",
       "</table>\n",
       "</div>"
      ],
      "text/plain": [
       "      name platform  year_of_release genre  na_sales  eu_sales  jp_sales  \\\n",
       "659    NaN      GEN           1993.0   NaN      1.78      0.53      0.00   \n",
       "14244  NaN      GEN           1993.0   NaN      0.00      0.00      0.03   \n",
       "\n",
       "       other_sales  critic_score user_score rating  \n",
       "659           0.08           NaN        NaN    NaN  \n",
       "14244         0.00           NaN        NaN    NaN  "
      ]
     },
     "execution_count": 6,
     "metadata": {},
     "output_type": "execute_result"
    }
   ],
   "source": [
    "# columns name&genre\n",
    "\n",
    "# в колонках названия и жанра всего по 2 пропущенных значения, проверим совпадают ли они по строкам\n",
    "\n",
    "df_games.query('name.isna() and genre.isna()')"
   ]
  },
  {
   "cell_type": "code",
   "execution_count": 7,
   "id": "fd77149d",
   "metadata": {},
   "outputs": [],
   "source": [
    "# columns name&genre\n",
    "\n",
    "# удаляем эти 2 строки, т.к. в них нет ни имени, ни жанра игры - отсутствует важная информация для анализа\n",
    "\n",
    "df_games = df_games.loc[~df_games['name'].isna()]"
   ]
  },
  {
   "cell_type": "code",
   "execution_count": 8,
   "id": "15cbad62",
   "metadata": {},
   "outputs": [
    {
     "data": {
      "text/plain": [
       "0"
      ]
     },
     "execution_count": 8,
     "metadata": {},
     "output_type": "execute_result"
    }
   ],
   "source": [
    "# column year_of_release\n",
    "\n",
    "# заменим пропущенные значения в колонке с годом релиза на 0 для дальнейшей работы с данными\n",
    "\n",
    "df_games['year_of_release'].fillna(0, inplace=True)\n",
    "df_games['year_of_release'].isna().sum()"
   ]
  },
  {
   "cell_type": "code",
   "execution_count": 9,
   "id": "c3493540",
   "metadata": {},
   "outputs": [
    {
     "data": {
      "text/plain": [
       "array(['0', '0.2', '0.3', '0.5', '0.6', '0.7', '0.9', '1', '1.1', '1.2',\n",
       "       '1.3', '1.4', '1.5', '1.6', '1.7', '1.8', '1.9', '2', '2.1', '2.2',\n",
       "       '2.3', '2.4', '2.5', '2.6', '2.7', '2.8', '2.9', '3', '3.1', '3.2',\n",
       "       '3.3', '3.4', '3.5', '3.6', '3.7', '3.8', '3.9', '4', '4.1', '4.2',\n",
       "       '4.3', '4.4', '4.5', '4.6', '4.7', '4.8', '4.9', '5', '5.1', '5.2',\n",
       "       '5.3', '5.4', '5.5', '5.6', '5.7', '5.8', '5.9', '6', '6.1', '6.2',\n",
       "       '6.3', '6.4', '6.5', '6.6', '6.7', '6.8', '6.9', '7', '7.1', '7.2',\n",
       "       '7.3', '7.4', '7.5', '7.6', '7.7', '7.8', '7.9', '8', '8.1', '8.2',\n",
       "       '8.3', '8.4', '8.5', '8.6', '8.7', '8.8', '8.9', '9', '9.1', '9.2',\n",
       "       '9.3', '9.4', '9.5', '9.6', '9.7', 'tbd', nan], dtype=object)"
      ]
     },
     "execution_count": 9,
     "metadata": {},
     "output_type": "execute_result"
    }
   ],
   "source": [
    "# column user_score\n",
    "\n",
    "# оценим значения колонки\n",
    "\n",
    "df_games['user_score'].sort_values().unique() "
   ]
  },
  {
   "cell_type": "code",
   "execution_count": 10,
   "id": "83e7bfa8",
   "metadata": {},
   "outputs": [
    {
     "data": {
      "text/html": [
       "<div>\n",
       "<style scoped>\n",
       "    .dataframe tbody tr th:only-of-type {\n",
       "        vertical-align: middle;\n",
       "    }\n",
       "\n",
       "    .dataframe tbody tr th {\n",
       "        vertical-align: top;\n",
       "    }\n",
       "\n",
       "    .dataframe thead th {\n",
       "        text-align: right;\n",
       "    }\n",
       "</style>\n",
       "<table border=\"1\" class=\"dataframe\">\n",
       "  <thead>\n",
       "    <tr style=\"text-align: right;\">\n",
       "      <th></th>\n",
       "      <th>name</th>\n",
       "      <th>platform</th>\n",
       "      <th>year_of_release</th>\n",
       "      <th>genre</th>\n",
       "      <th>na_sales</th>\n",
       "      <th>eu_sales</th>\n",
       "      <th>jp_sales</th>\n",
       "      <th>other_sales</th>\n",
       "      <th>critic_score</th>\n",
       "      <th>user_score</th>\n",
       "      <th>rating</th>\n",
       "    </tr>\n",
       "  </thead>\n",
       "  <tbody>\n",
       "    <tr>\n",
       "      <th>119</th>\n",
       "      <td>Zumba Fitness</td>\n",
       "      <td>Wii</td>\n",
       "      <td>2010.0</td>\n",
       "      <td>Sports</td>\n",
       "      <td>3.45</td>\n",
       "      <td>2.59</td>\n",
       "      <td>0.0</td>\n",
       "      <td>0.66</td>\n",
       "      <td>NaN</td>\n",
       "      <td>tbd</td>\n",
       "      <td>E</td>\n",
       "    </tr>\n",
       "    <tr>\n",
       "      <th>301</th>\n",
       "      <td>Namco Museum: 50th Anniversary</td>\n",
       "      <td>PS2</td>\n",
       "      <td>2005.0</td>\n",
       "      <td>Misc</td>\n",
       "      <td>2.08</td>\n",
       "      <td>1.35</td>\n",
       "      <td>0.0</td>\n",
       "      <td>0.54</td>\n",
       "      <td>61.0</td>\n",
       "      <td>tbd</td>\n",
       "      <td>E10+</td>\n",
       "    </tr>\n",
       "    <tr>\n",
       "      <th>520</th>\n",
       "      <td>Zumba Fitness 2</td>\n",
       "      <td>Wii</td>\n",
       "      <td>2011.0</td>\n",
       "      <td>Sports</td>\n",
       "      <td>1.51</td>\n",
       "      <td>1.03</td>\n",
       "      <td>0.0</td>\n",
       "      <td>0.27</td>\n",
       "      <td>NaN</td>\n",
       "      <td>tbd</td>\n",
       "      <td>T</td>\n",
       "    </tr>\n",
       "    <tr>\n",
       "      <th>645</th>\n",
       "      <td>uDraw Studio</td>\n",
       "      <td>Wii</td>\n",
       "      <td>2010.0</td>\n",
       "      <td>Misc</td>\n",
       "      <td>1.65</td>\n",
       "      <td>0.57</td>\n",
       "      <td>0.0</td>\n",
       "      <td>0.20</td>\n",
       "      <td>71.0</td>\n",
       "      <td>tbd</td>\n",
       "      <td>E</td>\n",
       "    </tr>\n",
       "    <tr>\n",
       "      <th>657</th>\n",
       "      <td>Frogger's Adventures: Temple of the Frog</td>\n",
       "      <td>GBA</td>\n",
       "      <td>0.0</td>\n",
       "      <td>Adventure</td>\n",
       "      <td>2.15</td>\n",
       "      <td>0.18</td>\n",
       "      <td>0.0</td>\n",
       "      <td>0.07</td>\n",
       "      <td>73.0</td>\n",
       "      <td>tbd</td>\n",
       "      <td>E</td>\n",
       "    </tr>\n",
       "    <tr>\n",
       "      <th>...</th>\n",
       "      <td>...</td>\n",
       "      <td>...</td>\n",
       "      <td>...</td>\n",
       "      <td>...</td>\n",
       "      <td>...</td>\n",
       "      <td>...</td>\n",
       "      <td>...</td>\n",
       "      <td>...</td>\n",
       "      <td>...</td>\n",
       "      <td>...</td>\n",
       "      <td>...</td>\n",
       "    </tr>\n",
       "    <tr>\n",
       "      <th>16695</th>\n",
       "      <td>Planet Monsters</td>\n",
       "      <td>GBA</td>\n",
       "      <td>2001.0</td>\n",
       "      <td>Action</td>\n",
       "      <td>0.01</td>\n",
       "      <td>0.00</td>\n",
       "      <td>0.0</td>\n",
       "      <td>0.00</td>\n",
       "      <td>67.0</td>\n",
       "      <td>tbd</td>\n",
       "      <td>E</td>\n",
       "    </tr>\n",
       "    <tr>\n",
       "      <th>16697</th>\n",
       "      <td>Bust-A-Move 3000</td>\n",
       "      <td>GC</td>\n",
       "      <td>2003.0</td>\n",
       "      <td>Puzzle</td>\n",
       "      <td>0.01</td>\n",
       "      <td>0.00</td>\n",
       "      <td>0.0</td>\n",
       "      <td>0.00</td>\n",
       "      <td>53.0</td>\n",
       "      <td>tbd</td>\n",
       "      <td>E</td>\n",
       "    </tr>\n",
       "    <tr>\n",
       "      <th>16698</th>\n",
       "      <td>Mega Brain Boost</td>\n",
       "      <td>DS</td>\n",
       "      <td>2008.0</td>\n",
       "      <td>Puzzle</td>\n",
       "      <td>0.01</td>\n",
       "      <td>0.00</td>\n",
       "      <td>0.0</td>\n",
       "      <td>0.00</td>\n",
       "      <td>48.0</td>\n",
       "      <td>tbd</td>\n",
       "      <td>E</td>\n",
       "    </tr>\n",
       "    <tr>\n",
       "      <th>16704</th>\n",
       "      <td>Plushees</td>\n",
       "      <td>DS</td>\n",
       "      <td>2008.0</td>\n",
       "      <td>Simulation</td>\n",
       "      <td>0.01</td>\n",
       "      <td>0.00</td>\n",
       "      <td>0.0</td>\n",
       "      <td>0.00</td>\n",
       "      <td>NaN</td>\n",
       "      <td>tbd</td>\n",
       "      <td>E</td>\n",
       "    </tr>\n",
       "    <tr>\n",
       "      <th>16706</th>\n",
       "      <td>Men in Black II: Alien Escape</td>\n",
       "      <td>GC</td>\n",
       "      <td>2003.0</td>\n",
       "      <td>Shooter</td>\n",
       "      <td>0.01</td>\n",
       "      <td>0.00</td>\n",
       "      <td>0.0</td>\n",
       "      <td>0.00</td>\n",
       "      <td>NaN</td>\n",
       "      <td>tbd</td>\n",
       "      <td>T</td>\n",
       "    </tr>\n",
       "  </tbody>\n",
       "</table>\n",
       "<p>2424 rows × 11 columns</p>\n",
       "</div>"
      ],
      "text/plain": [
       "                                           name platform  year_of_release  \\\n",
       "119                               Zumba Fitness      Wii           2010.0   \n",
       "301              Namco Museum: 50th Anniversary      PS2           2005.0   \n",
       "520                             Zumba Fitness 2      Wii           2011.0   \n",
       "645                                uDraw Studio      Wii           2010.0   \n",
       "657    Frogger's Adventures: Temple of the Frog      GBA              0.0   \n",
       "...                                         ...      ...              ...   \n",
       "16695                           Planet Monsters      GBA           2001.0   \n",
       "16697                          Bust-A-Move 3000       GC           2003.0   \n",
       "16698                          Mega Brain Boost       DS           2008.0   \n",
       "16704                                  Plushees       DS           2008.0   \n",
       "16706             Men in Black II: Alien Escape       GC           2003.0   \n",
       "\n",
       "            genre  na_sales  eu_sales  jp_sales  other_sales  critic_score  \\\n",
       "119        Sports      3.45      2.59       0.0         0.66           NaN   \n",
       "301          Misc      2.08      1.35       0.0         0.54          61.0   \n",
       "520        Sports      1.51      1.03       0.0         0.27           NaN   \n",
       "645          Misc      1.65      0.57       0.0         0.20          71.0   \n",
       "657     Adventure      2.15      0.18       0.0         0.07          73.0   \n",
       "...           ...       ...       ...       ...          ...           ...   \n",
       "16695      Action      0.01      0.00       0.0         0.00          67.0   \n",
       "16697      Puzzle      0.01      0.00       0.0         0.00          53.0   \n",
       "16698      Puzzle      0.01      0.00       0.0         0.00          48.0   \n",
       "16704  Simulation      0.01      0.00       0.0         0.00           NaN   \n",
       "16706     Shooter      0.01      0.00       0.0         0.00           NaN   \n",
       "\n",
       "      user_score rating  \n",
       "119          tbd      E  \n",
       "301          tbd   E10+  \n",
       "520          tbd      T  \n",
       "645          tbd      E  \n",
       "657          tbd      E  \n",
       "...          ...    ...  \n",
       "16695        tbd      E  \n",
       "16697        tbd      E  \n",
       "16698        tbd      E  \n",
       "16704        tbd      E  \n",
       "16706        tbd      T  \n",
       "\n",
       "[2424 rows x 11 columns]"
      ]
     },
     "execution_count": 10,
     "metadata": {},
     "output_type": "execute_result"
    }
   ],
   "source": [
    "# column user_score\n",
    "\n",
    "# tbd - значение будет определено. Как правило используется при анонсах игр (еще не вышедших). \n",
    "# проверим даты выхода tbd игр и общее число таких значений \n",
    "\n",
    "df_games.query('user_score == \"tbd\"')"
   ]
  },
  {
   "cell_type": "markdown",
   "id": "bea27213",
   "metadata": {},
   "source": [
    "<div class=\"alert alert-warning\">\n",
    "\n",
    "1. Разнообразие и разброс годов выпуска игр с оценкой пользователей \"tbd\" не дает сделать нам вывод о том, что это даный показатель указывает на то, что игры еще не вышли.\n",
    "2. Корреляция между оценкой критиков и пользователей может быть не до конца полной - несмотря на то, что в большинстве случаев есть достаточно сильная связь между этими оценками (из высокой оценки критиков следует соответственно высокая оценка пользователей); есть ряд игр, у которых высокая оценка критиков и низкая оценка пользователей - критики могут более лояльно относиться к играм от крупных издателей, не учитывать множество багов, писать оценку, не проведя в игре достаточное кол-во часов и проч.\n",
    "\n",
    "Однако для дальнейшей работы с колонкой и проведения математических операций строковое значение \"tbd\" должно быть заменено."
   ]
  },
  {
   "cell_type": "code",
   "execution_count": 11,
   "id": "53154b0d",
   "metadata": {},
   "outputs": [],
   "source": [
    "# column user_score\n",
    "\n",
    "# будут необходимы математические операции с колонкой, поэтому заменим tbd \n",
    "\n",
    "df_games.loc[df_games['user_score'] == 'tbd', 'user_score'] = '0'"
   ]
  },
  {
   "cell_type": "code",
   "execution_count": 12,
   "id": "cc6d6b61",
   "metadata": {},
   "outputs": [
    {
     "data": {
      "text/plain": [
       "array(['AO', 'E', 'E10+', 'EC', 'K-A', 'M', 'RP', 'T', nan], dtype=object)"
      ]
     },
     "execution_count": 12,
     "metadata": {},
     "output_type": "execute_result"
    }
   ],
   "source": [
    "# column rating\n",
    "\n",
    "df_games['rating'].sort_values().unique()"
   ]
  },
  {
   "cell_type": "markdown",
   "id": "d4c7c9e0",
   "metadata": {},
   "source": [
    "<div class=\"alert alert-warning\">\n",
    "\n",
    "Пропущенные значения рейтинга заполнить адекватно не представляется возможным. Для этого необходима обширная информация о каждой конкретной игре.\n",
    "Поэтому пропущенные значения будут оставлены."
   ]
  },
  {
   "cell_type": "code",
   "execution_count": 13,
   "id": "e58aed2d",
   "metadata": {},
   "outputs": [
    {
     "name": "stdout",
     "output_type": "stream",
     "text": [
      "<class 'pandas.core.frame.DataFrame'>\n",
      "Int64Index: 16713 entries, 0 to 16714\n",
      "Data columns (total 11 columns):\n",
      " #   Column           Non-Null Count  Dtype  \n",
      "---  ------           --------------  -----  \n",
      " 0   name             16713 non-null  object \n",
      " 1   platform         16713 non-null  object \n",
      " 2   year_of_release  16713 non-null  float64\n",
      " 3   genre            16713 non-null  object \n",
      " 4   na_sales         16713 non-null  float64\n",
      " 5   eu_sales         16713 non-null  float64\n",
      " 6   jp_sales         16713 non-null  float64\n",
      " 7   other_sales      16713 non-null  float64\n",
      " 8   critic_score     8137 non-null   float64\n",
      " 9   user_score       10014 non-null  object \n",
      " 10  rating           9949 non-null   object \n",
      "dtypes: float64(6), object(5)\n",
      "memory usage: 1.5+ MB\n"
     ]
    }
   ],
   "source": [
    "# проверяем результаты\n",
    "\n",
    "df_games.info()"
   ]
  },
  {
   "cell_type": "markdown",
   "id": "22262d73",
   "metadata": {},
   "source": [
    "### Преобразование типов данных "
   ]
  },
  {
   "cell_type": "code",
   "execution_count": 14,
   "id": "22a46b34",
   "metadata": {},
   "outputs": [],
   "source": [
    "# заменим значения года выпуска на целочисленный формат\n",
    "\n",
    "df_games['year_of_release'] = df_games['year_of_release'].astype('int32')"
   ]
  },
  {
   "cell_type": "code",
   "execution_count": 15,
   "id": "4ac89abc",
   "metadata": {},
   "outputs": [
    {
     "data": {
      "text/plain": [
       "array([8. , nan, 8.3, 8.5, 6.6, 8.4, 8.6, 7.7, 6.3, 7.4, 8.2, 9. , 7.9,\n",
       "       8.1, 8.7, 7.1, 3.4, 5.3, 4.8, 3.2, 8.9, 6.4, 7.8, 7.5, 2.6, 7.2,\n",
       "       9.2, 7. , 7.3, 4.3, 7.6, 5.7, 5. , 9.1, 6.5, 0. , 8.8, 6.9, 9.4,\n",
       "       6.8, 6.1, 6.7, 5.4, 4. , 4.9, 4.5, 9.3, 6.2, 4.2, 6. , 3.7, 4.1,\n",
       "       5.8, 5.6, 5.5, 4.4, 4.6, 5.9, 3.9, 3.1, 2.9, 5.2, 3.3, 4.7, 5.1,\n",
       "       3.5, 2.5, 1.9, 3. , 2.7, 2.2, 2. , 9.5, 2.1, 3.6, 2.8, 1.8, 3.8,\n",
       "       1.6, 9.6, 2.4, 1.7, 1.1, 0.3, 1.5, 0.7, 1.2, 2.3, 0.5, 1.3, 0.2,\n",
       "       0.6, 1.4, 0.9, 1. , 9.7], dtype=float32)"
      ]
     },
     "execution_count": 15,
     "metadata": {},
     "output_type": "execute_result"
    }
   ],
   "source": [
    "# заменим строковые значения оценки пользователей на вещественные\n",
    "\n",
    "df_games['user_score'] = df_games['user_score'].astype('float32')\n",
    "df_games['user_score'].unique()"
   ]
  },
  {
   "cell_type": "markdown",
   "id": "1616e611",
   "metadata": {},
   "source": [
    "### Создание новых колонок "
   ]
  },
  {
   "cell_type": "code",
   "execution_count": 16,
   "id": "c4b43a44",
   "metadata": {},
   "outputs": [
    {
     "data": {
      "text/html": [
       "<div>\n",
       "<style scoped>\n",
       "    .dataframe tbody tr th:only-of-type {\n",
       "        vertical-align: middle;\n",
       "    }\n",
       "\n",
       "    .dataframe tbody tr th {\n",
       "        vertical-align: top;\n",
       "    }\n",
       "\n",
       "    .dataframe thead th {\n",
       "        text-align: right;\n",
       "    }\n",
       "</style>\n",
       "<table border=\"1\" class=\"dataframe\">\n",
       "  <thead>\n",
       "    <tr style=\"text-align: right;\">\n",
       "      <th></th>\n",
       "      <th>name</th>\n",
       "      <th>platform</th>\n",
       "      <th>year_of_release</th>\n",
       "      <th>genre</th>\n",
       "      <th>na_sales</th>\n",
       "      <th>eu_sales</th>\n",
       "      <th>jp_sales</th>\n",
       "      <th>other_sales</th>\n",
       "      <th>critic_score</th>\n",
       "      <th>user_score</th>\n",
       "      <th>rating</th>\n",
       "      <th>total_sales</th>\n",
       "    </tr>\n",
       "  </thead>\n",
       "  <tbody>\n",
       "    <tr>\n",
       "      <th>0</th>\n",
       "      <td>Wii Sports</td>\n",
       "      <td>Wii</td>\n",
       "      <td>2006</td>\n",
       "      <td>Sports</td>\n",
       "      <td>41.36</td>\n",
       "      <td>28.96</td>\n",
       "      <td>3.77</td>\n",
       "      <td>8.45</td>\n",
       "      <td>76.0</td>\n",
       "      <td>8.0</td>\n",
       "      <td>E</td>\n",
       "      <td>82.54</td>\n",
       "    </tr>\n",
       "    <tr>\n",
       "      <th>1</th>\n",
       "      <td>Super Mario Bros.</td>\n",
       "      <td>NES</td>\n",
       "      <td>1985</td>\n",
       "      <td>Platform</td>\n",
       "      <td>29.08</td>\n",
       "      <td>3.58</td>\n",
       "      <td>6.81</td>\n",
       "      <td>0.77</td>\n",
       "      <td>NaN</td>\n",
       "      <td>NaN</td>\n",
       "      <td>NaN</td>\n",
       "      <td>40.24</td>\n",
       "    </tr>\n",
       "    <tr>\n",
       "      <th>2</th>\n",
       "      <td>Mario Kart Wii</td>\n",
       "      <td>Wii</td>\n",
       "      <td>2008</td>\n",
       "      <td>Racing</td>\n",
       "      <td>15.68</td>\n",
       "      <td>12.76</td>\n",
       "      <td>3.79</td>\n",
       "      <td>3.29</td>\n",
       "      <td>82.0</td>\n",
       "      <td>8.3</td>\n",
       "      <td>E</td>\n",
       "      <td>35.52</td>\n",
       "    </tr>\n",
       "    <tr>\n",
       "      <th>3</th>\n",
       "      <td>Wii Sports Resort</td>\n",
       "      <td>Wii</td>\n",
       "      <td>2009</td>\n",
       "      <td>Sports</td>\n",
       "      <td>15.61</td>\n",
       "      <td>10.93</td>\n",
       "      <td>3.28</td>\n",
       "      <td>2.95</td>\n",
       "      <td>80.0</td>\n",
       "      <td>8.0</td>\n",
       "      <td>E</td>\n",
       "      <td>32.77</td>\n",
       "    </tr>\n",
       "    <tr>\n",
       "      <th>4</th>\n",
       "      <td>Pokemon Red/Pokemon Blue</td>\n",
       "      <td>GB</td>\n",
       "      <td>1996</td>\n",
       "      <td>Role-Playing</td>\n",
       "      <td>11.27</td>\n",
       "      <td>8.89</td>\n",
       "      <td>10.22</td>\n",
       "      <td>1.00</td>\n",
       "      <td>NaN</td>\n",
       "      <td>NaN</td>\n",
       "      <td>NaN</td>\n",
       "      <td>31.38</td>\n",
       "    </tr>\n",
       "  </tbody>\n",
       "</table>\n",
       "</div>"
      ],
      "text/plain": [
       "                       name platform  year_of_release         genre  na_sales  \\\n",
       "0                Wii Sports      Wii             2006        Sports     41.36   \n",
       "1         Super Mario Bros.      NES             1985      Platform     29.08   \n",
       "2            Mario Kart Wii      Wii             2008        Racing     15.68   \n",
       "3         Wii Sports Resort      Wii             2009        Sports     15.61   \n",
       "4  Pokemon Red/Pokemon Blue       GB             1996  Role-Playing     11.27   \n",
       "\n",
       "   eu_sales  jp_sales  other_sales  critic_score  user_score rating  \\\n",
       "0     28.96      3.77         8.45          76.0         8.0      E   \n",
       "1      3.58      6.81         0.77           NaN         NaN    NaN   \n",
       "2     12.76      3.79         3.29          82.0         8.3      E   \n",
       "3     10.93      3.28         2.95          80.0         8.0      E   \n",
       "4      8.89     10.22         1.00           NaN         NaN    NaN   \n",
       "\n",
       "   total_sales  \n",
       "0        82.54  \n",
       "1        40.24  \n",
       "2        35.52  \n",
       "3        32.77  \n",
       "4        31.38  "
      ]
     },
     "execution_count": 16,
     "metadata": {},
     "output_type": "execute_result"
    }
   ],
   "source": [
    "# создадим колонку по суммарным продажах по всем регионам\n",
    "\n",
    "df_games['total_sales'] = df_games['na_sales'] + df_games['eu_sales'] + df_games['jp_sales'] + df_games['other_sales']\n",
    "df_games.head()"
   ]
  },
  {
   "cell_type": "markdown",
   "id": "2048e7a2",
   "metadata": {},
   "source": [
    "# Анализ данных"
   ]
  },
  {
   "cell_type": "markdown",
   "id": "3bf45bff",
   "metadata": {},
   "source": [
    "## Общий выпуск игр по годам "
   ]
  },
  {
   "cell_type": "code",
   "execution_count": 17,
   "id": "21e40b71",
   "metadata": {},
   "outputs": [
    {
     "data": {
      "text/plain": [
       "<AxesSubplot:title={'center':'Распредедение выпуска игр по годам'}, ylabel='Frequency'>"
      ]
     },
     "execution_count": 17,
     "metadata": {},
     "output_type": "execute_result"
    },
    {
     "data": {
      "image/png": "[encoded data removed]",
      "text/plain": [
       "<Figure size 1080x360 with 1 Axes>"
      ]
     },
     "metadata": {
      "needs_background": "light"
     },
     "output_type": "display_data"
    }
   ],
   "source": [
    "# Исключим нулевые значения для вывода гистограммы.\n",
    "\n",
    "df_games.loc[df_games['year_of_release'] != 0, 'year_of_release'].plot(kind='hist', \n",
    "                                                                       title='Распредедение выпуска игр по годам',\n",
    "                                                                       figsize=(15,5),\n",
    "                                                                       grid=True,\n",
    "                                                                       color='darkblue')"
   ]
  },
  {
   "cell_type": "markdown",
   "id": "d34cee34",
   "metadata": {},
   "source": [
    "<div class=\"alert alert-info\">\n",
    "\n",
    " - Вполне ожидаемо, что в 80-е и начало 90-х вышло довольно мало игр - сфера игр в это время только зарождалась, и делать какие-либо значимые выводы по этому периоду сложно.\n",
    " - В середине-конце 90-х начался рост количества выпускаемых игр, а после 2011 года начался спад. "
   ]
  },
  {
   "cell_type": "markdown",
   "id": "08bf3312",
   "metadata": {},
   "source": [
    "## Общие продажи по платформам"
   ]
  },
  {
   "cell_type": "code",
   "execution_count": 18,
   "id": "86d3cadc",
   "metadata": {},
   "outputs": [
    {
     "data": {
      "text/plain": [
       "<AxesSubplot:title={'center':'Распределение игр по платформам'}>"
      ]
     },
     "execution_count": 18,
     "metadata": {},
     "output_type": "execute_result"
    },
    {
     "data": {
      "image/png": "[encoded data removed]",
      "text/plain": [
       "<Figure size 1080x360 with 1 Axes>"
      ]
     },
     "metadata": {
      "needs_background": "light"
     },
     "output_type": "display_data"
    }
   ],
   "source": [
    "# Построим гисторгамму\n",
    "\n",
    "df_games['platform'].value_counts().plot(kind='bar',\n",
    "                                         title='Распределение игр по платформам',\n",
    "                                         figsize=(15,5),\n",
    "                                         grid=True,\n",
    "                                        color='green')"
   ]
  },
  {
   "cell_type": "markdown",
   "id": "a92bfb9e",
   "metadata": {},
   "source": [
    " <div class=\"alert alert-info\">\n",
    "\n",
    " - Самые высокие продажи за всю историю наблюдений отмечаются у PS2, DS, PS3, Wii, X360"
   ]
  },
  {
   "cell_type": "code",
   "execution_count": 19,
   "id": "9733441c",
   "metadata": {},
   "outputs": [
    {
     "data": {
      "text/html": [
       "<div>\n",
       "<style scoped>\n",
       "    .dataframe tbody tr th:only-of-type {\n",
       "        vertical-align: middle;\n",
       "    }\n",
       "\n",
       "    .dataframe tbody tr th {\n",
       "        vertical-align: top;\n",
       "    }\n",
       "\n",
       "    .dataframe thead th {\n",
       "        text-align: right;\n",
       "    }\n",
       "</style>\n",
       "<table border=\"1\" class=\"dataframe\">\n",
       "  <thead>\n",
       "    <tr style=\"text-align: right;\">\n",
       "      <th></th>\n",
       "      <th>total_sales</th>\n",
       "      <th>year_of_release</th>\n",
       "    </tr>\n",
       "    <tr>\n",
       "      <th>platform</th>\n",
       "      <th></th>\n",
       "      <th></th>\n",
       "    </tr>\n",
       "  </thead>\n",
       "  <tbody>\n",
       "    <tr>\n",
       "      <th>PS2</th>\n",
       "      <td>1255.77</td>\n",
       "      <td>2004</td>\n",
       "    </tr>\n",
       "    <tr>\n",
       "      <th>X360</th>\n",
       "      <td>971.42</td>\n",
       "      <td>2010</td>\n",
       "    </tr>\n",
       "    <tr>\n",
       "      <th>PS3</th>\n",
       "      <td>939.65</td>\n",
       "      <td>2013</td>\n",
       "    </tr>\n",
       "    <tr>\n",
       "      <th>Wii</th>\n",
       "      <td>907.51</td>\n",
       "      <td>2006</td>\n",
       "    </tr>\n",
       "    <tr>\n",
       "      <th>DS</th>\n",
       "      <td>806.12</td>\n",
       "      <td>2006</td>\n",
       "    </tr>\n",
       "    <tr>\n",
       "      <th>PS</th>\n",
       "      <td>730.86</td>\n",
       "      <td>1997</td>\n",
       "    </tr>\n",
       "    <tr>\n",
       "      <th>GBA</th>\n",
       "      <td>317.85</td>\n",
       "      <td>2002</td>\n",
       "    </tr>\n",
       "    <tr>\n",
       "      <th>PS4</th>\n",
       "      <td>314.14</td>\n",
       "      <td>2015</td>\n",
       "    </tr>\n",
       "    <tr>\n",
       "      <th>PSP</th>\n",
       "      <td>294.05</td>\n",
       "      <td>2005</td>\n",
       "    </tr>\n",
       "    <tr>\n",
       "      <th>PC</th>\n",
       "      <td>259.52</td>\n",
       "      <td>2009</td>\n",
       "    </tr>\n",
       "    <tr>\n",
       "      <th>3DS</th>\n",
       "      <td>259.00</td>\n",
       "      <td>2013</td>\n",
       "    </tr>\n",
       "    <tr>\n",
       "      <th>XB</th>\n",
       "      <td>257.74</td>\n",
       "      <td>2004</td>\n",
       "    </tr>\n",
       "    <tr>\n",
       "      <th>GB</th>\n",
       "      <td>255.46</td>\n",
       "      <td>1996</td>\n",
       "    </tr>\n",
       "    <tr>\n",
       "      <th>NES</th>\n",
       "      <td>251.05</td>\n",
       "      <td>1985</td>\n",
       "    </tr>\n",
       "    <tr>\n",
       "      <th>N64</th>\n",
       "      <td>218.68</td>\n",
       "      <td>1996</td>\n",
       "    </tr>\n",
       "    <tr>\n",
       "      <th>SNES</th>\n",
       "      <td>200.04</td>\n",
       "      <td>1990</td>\n",
       "    </tr>\n",
       "    <tr>\n",
       "      <th>GC</th>\n",
       "      <td>198.93</td>\n",
       "      <td>2001</td>\n",
       "    </tr>\n",
       "    <tr>\n",
       "      <th>XOne</th>\n",
       "      <td>159.32</td>\n",
       "      <td>2015</td>\n",
       "    </tr>\n",
       "    <tr>\n",
       "      <th>2600</th>\n",
       "      <td>96.98</td>\n",
       "      <td>1982</td>\n",
       "    </tr>\n",
       "    <tr>\n",
       "      <th>WiiU</th>\n",
       "      <td>82.19</td>\n",
       "      <td>2014</td>\n",
       "    </tr>\n",
       "    <tr>\n",
       "      <th>PSV</th>\n",
       "      <td>54.07</td>\n",
       "      <td>2014</td>\n",
       "    </tr>\n",
       "    <tr>\n",
       "      <th>SAT</th>\n",
       "      <td>33.59</td>\n",
       "      <td>1995</td>\n",
       "    </tr>\n",
       "    <tr>\n",
       "      <th>GEN</th>\n",
       "      <td>28.35</td>\n",
       "      <td>1992</td>\n",
       "    </tr>\n",
       "    <tr>\n",
       "      <th>DC</th>\n",
       "      <td>15.95</td>\n",
       "      <td>1998</td>\n",
       "    </tr>\n",
       "    <tr>\n",
       "      <th>SCD</th>\n",
       "      <td>1.86</td>\n",
       "      <td>1993</td>\n",
       "    </tr>\n",
       "    <tr>\n",
       "      <th>NG</th>\n",
       "      <td>1.44</td>\n",
       "      <td>1994</td>\n",
       "    </tr>\n",
       "    <tr>\n",
       "      <th>WS</th>\n",
       "      <td>1.42</td>\n",
       "      <td>2000</td>\n",
       "    </tr>\n",
       "    <tr>\n",
       "      <th>TG16</th>\n",
       "      <td>0.16</td>\n",
       "      <td>1995</td>\n",
       "    </tr>\n",
       "    <tr>\n",
       "      <th>3DO</th>\n",
       "      <td>0.10</td>\n",
       "      <td>1995</td>\n",
       "    </tr>\n",
       "    <tr>\n",
       "      <th>GG</th>\n",
       "      <td>0.04</td>\n",
       "      <td>1992</td>\n",
       "    </tr>\n",
       "    <tr>\n",
       "      <th>PCFX</th>\n",
       "      <td>0.03</td>\n",
       "      <td>1996</td>\n",
       "    </tr>\n",
       "  </tbody>\n",
       "</table>\n",
       "</div>"
      ],
      "text/plain": [
       "          total_sales  year_of_release\n",
       "platform                              \n",
       "PS2           1255.77             2004\n",
       "X360           971.42             2010\n",
       "PS3            939.65             2013\n",
       "Wii            907.51             2006\n",
       "DS             806.12             2006\n",
       "PS             730.86             1997\n",
       "GBA            317.85             2002\n",
       "PS4            314.14             2015\n",
       "PSP            294.05             2005\n",
       "PC             259.52             2009\n",
       "3DS            259.00             2013\n",
       "XB             257.74             2004\n",
       "GB             255.46             1996\n",
       "NES            251.05             1985\n",
       "N64            218.68             1996\n",
       "SNES           200.04             1990\n",
       "GC             198.93             2001\n",
       "XOne           159.32             2015\n",
       "2600            96.98             1982\n",
       "WiiU            82.19             2014\n",
       "PSV             54.07             2014\n",
       "SAT             33.59             1995\n",
       "GEN             28.35             1992\n",
       "DC              15.95             1998\n",
       "SCD              1.86             1993\n",
       "NG               1.44             1994\n",
       "WS               1.42             2000\n",
       "TG16             0.16             1995\n",
       "3DO              0.10             1995\n",
       "GG               0.04             1992\n",
       "PCFX             0.03             1996"
      ]
     },
     "execution_count": 19,
     "metadata": {},
     "output_type": "execute_result"
    }
   ],
   "source": [
    "# сгуппируем данные посредством сводной таблицы и расположим планформы по убыванию проданных млн. копий\n",
    "# total_sales - общее кол-во проданных копий; year_of_release - релиз первой игры на платформе\n",
    "\n",
    "platform_pivot = df_games.pivot_table(index='platform', \n",
    "                                      values=['total_sales','year_of_release'], \n",
    "                                      aggfunc={'total_sales':'sum', 'year_of_release':'first'})\n",
    "\n",
    "platform_pivot.sort_values(by='total_sales', ascending=False)"
   ]
  },
  {
   "cell_type": "code",
   "execution_count": 20,
   "id": "da89ab13",
   "metadata": {},
   "outputs": [
    {
     "name": "stdout",
     "output_type": "stream",
     "text": [
      "Новая платформа в среднем появляется каждые 2 года\n"
     ]
    }
   ],
   "source": [
    "# выведем топ-10 самых продаваемых платформ \n",
    "# построим цикл, который будет считать разницу между следующим и предыдущим годами; \n",
    "# сумму полученных разностей разделим на общее число лет для вывода среднего\n",
    "\n",
    "platform_pivot = platform_pivot.query('total_sales >= 259.52').sort_values(by='year_of_release')\n",
    "\n",
    "year_difference=0 # счетчик разностей в годах выпуска успешных платформ\n",
    "count=0 # счетчик числа лет\\индекс по списку\n",
    "last_year=0 # предыдущий год для того, по которому сейчас идет цикл\n",
    "\n",
    "for year in platform_pivot['year_of_release'].unique():\n",
    "    # задаем первый год как последний (из него нечего вычитать, т.к. перед ним нет значений)\n",
    "    if count==0:\n",
    "        last_year = year\n",
    "    # из последующего каждого года вычитаем предыщущий, затем год этой итерации становится вычитаемым для следующего\n",
    "    # не забываем прибавлять счетчик лет на каждой итерации цикла\n",
    "    # затем выводим среднее в целочисленном формате\n",
    "    else:\n",
    "        year_difference += year-last_year\n",
    "        last_year=year\n",
    "    count+=1\n",
    "mean_diff=int(year_difference/count)\n",
    "\n",
    "print(f'Новая платформа в среднем появляется каждые {mean_diff} года')"
   ]
  },
  {
   "cell_type": "markdown",
   "id": "412a3d25",
   "metadata": {},
   "source": [
    "## Анализ платформ"
   ]
  },
  {
   "cell_type": "markdown",
   "id": "4ccfa572",
   "metadata": {},
   "source": [
    "<div class=\"alert alert-info\"> \n",
    "    \n",
    " - Так как с 2011 года наблюдается общее падение продаж, для прогноза должны быть взяты данные, начиная с 2010 года. \n",
    " - Так как сфера является достаточно быстро меняющейся, возьмем данные за условный цикл-смену популярных платформ, то есть за 2 года - с 2014 по 2016 года."
   ]
  },
  {
   "cell_type": "code",
   "execution_count": 21,
   "id": "0d578b9c",
   "metadata": {},
   "outputs": [
    {
     "name": "stdout",
     "output_type": "stream",
     "text": [
      "<class 'pandas.core.frame.DataFrame'>\n",
      "Int64Index: 1689 entries, 31 to 16714\n",
      "Data columns (total 12 columns):\n",
      " #   Column           Non-Null Count  Dtype  \n",
      "---  ------           --------------  -----  \n",
      " 0   name             1689 non-null   object \n",
      " 1   platform         1689 non-null   object \n",
      " 2   year_of_release  1689 non-null   int32  \n",
      " 3   genre            1689 non-null   object \n",
      " 4   na_sales         1689 non-null   float64\n",
      " 5   eu_sales         1689 non-null   float64\n",
      " 6   jp_sales         1689 non-null   float64\n",
      " 7   other_sales      1689 non-null   float64\n",
      " 8   critic_score     718 non-null    float64\n",
      " 9   user_score       981 non-null    float32\n",
      " 10  rating           940 non-null    object \n",
      " 11  total_sales      1689 non-null   float64\n",
      "dtypes: float32(1), float64(6), int32(1), object(4)\n",
      "memory usage: 158.3+ KB\n"
     ]
    }
   ],
   "source": [
    "# отсортируем датасет для анализа\n",
    "\n",
    "forecast_games=df_games.loc[df_games['year_of_release']>=2014]\n",
    "forecast_games.info()"
   ]
  },
  {
   "cell_type": "code",
   "execution_count": 22,
   "id": "5c31c784",
   "metadata": {},
   "outputs": [],
   "source": [
    "# сделаем отдельно две сводные таблицы - первая за 2010 год до резкого спада, вторая после 2010 - во время спада.\n",
    "# таблицы будут хранить отсортированные по возрастанию продажи в разбивке по платформам\n",
    "\n",
    "games_before_crisis = (\n",
    "df_games\n",
    "    .query('year_of_release == 2010')\n",
    "    .pivot_table(index='platform', values='total_sales', aggfunc='sum')\n",
    "    .sort_values(by='total_sales', ascending=False)\n",
    ")\n",
    "\n",
    "games_after_crisis = (\n",
    "forecast_games\n",
    "    .pivot_table(index='platform', values='total_sales', aggfunc='sum')\n",
    "    .sort_values(by='total_sales', ascending=False)\n",
    ")"
   ]
  },
  {
   "cell_type": "code",
   "execution_count": 23,
   "id": "6826f983",
   "metadata": {},
   "outputs": [
    {
     "data": {
      "text/plain": [
       "<AxesSubplot:title={'center':'Изменение продаж платформ за год до и после спада выпускаемых игр'}, xlabel='platform'>"
      ]
     },
     "execution_count": 23,
     "metadata": {},
     "output_type": "execute_result"
    },
    {
     "data": {
      "image/png": "[encoded data removed]",
      "text/plain": [
       "<Figure size 1080x360 with 1 Axes>"
      ]
     },
     "metadata": {
      "needs_background": "light"
     },
     "output_type": "display_data"
    }
   ],
   "source": [
    "ax = games_before_crisis.plot(\n",
    "    kind='bar',\n",
    "    alpha=0.7,\n",
    "    y='total_sales', \n",
    "    figsize=(15,5),\n",
    "    grid=True,\n",
    "    label='before',\n",
    "    color='blue'\n",
    ")\n",
    "\n",
    "games_after_crisis.plot(\n",
    "    title='Изменение продаж платформ за год до и после спада выпускаемых игр',\n",
    "    ax=ax,\n",
    "    kind='bar',\n",
    "    alpha=0.5,\n",
    "    y='total_sales', \n",
    "    figsize=(15,5),\n",
    "    grid=True,\n",
    "    label='after',\n",
    "    legend=True,\n",
    "    color='orange'\n",
    ")"
   ]
  },
  {
   "cell_type": "markdown",
   "id": "11fb7ed4",
   "metadata": {},
   "source": [
    "<div class=\"alert alert-info\"> \n",
    "\n",
    "- Выделяется топ платформ, которые набирали популярность до общего спада кол-ва выпускаемых игр удержали первенство\n",
    "   - Эти платформы являются потенциально наиболее прибыльными и выгодными:\n",
    "    - Топ-3: PS4, XOne, 3DS. \n",
    "    - Топ-5: PS4, XOne, 3DS, PS3, X360.\n",
    "При этом 3DS и PS3 были более популярны перед кризисом в 2010 году, чем в последние 2 года. А XOne набрала популярность именно в последние года.   \n",
    "   \n",
    " - Совсем небольшую популярность получили только появившиеся после 2010 года WiiU и PSV. Эти платформы достаточно рискованные для выпуска на них продукта.\n",
    " - Топ-3 самых сильно сдавших после 2010 года платформ - это PSV, Wii, PSP. Эти платформы очень рискованны для выпуска на них продукта."
   ]
  },
  {
   "cell_type": "code",
   "execution_count": 24,
   "id": "772764fe",
   "metadata": {},
   "outputs": [
    {
     "data": {
      "text/plain": [
       "(0.0, 2.0)"
      ]
     },
     "execution_count": 24,
     "metadata": {},
     "output_type": "execute_result"
    },
    {
     "data": {
      "image/png": "[encoded data removed]",
      "text/plain": [
       "<Figure size 432x288 with 1 Axes>"
      ]
     },
     "metadata": {
      "needs_background": "light"
     },
     "output_type": "display_data"
    }
   ],
   "source": [
    "# построим диаграмму размаха\n",
    "\n",
    "sns.boxplot(data=forecast_games, x='total_sales', y='platform')\n",
    "plt.title('Распределение продаж по платформам\\n')\n",
    "plt.xlim(0,2)"
   ]
  },
  {
   "cell_type": "markdown",
   "id": "e65dd793",
   "metadata": {},
   "source": [
    "<div class=\"alert alert-info\">\n",
    "\n",
    " - На полученном графике сильно заметны выбросы, соответственно, практически на всех платформах есть общая тенденция - есть сильно выделяющиеся из общей массы игры, которые приносят очень высокую прибыль на общем фоне.\n",
    " - У PS4 и Wii наблюдаются самые высокие смещения вправо - на этих платформах наблюдаются самые высокие продажи"
   ]
  },
  {
   "cell_type": "markdown",
   "id": "e77de8a2",
   "metadata": {},
   "source": [
    "### Влияние отзывов"
   ]
  },
  {
   "cell_type": "markdown",
   "id": "b127e445",
   "metadata": {},
   "source": [
    "**Посмотрим влияние отзывов на продажи самой популярной платформы - PS4 за необходимый период (после 2014)**"
   ]
  },
  {
   "cell_type": "code",
   "execution_count": 25,
   "id": "f6f30d4e",
   "metadata": {},
   "outputs": [
    {
     "data": {
      "text/html": [
       "<div>\n",
       "<style scoped>\n",
       "    .dataframe tbody tr th:only-of-type {\n",
       "        vertical-align: middle;\n",
       "    }\n",
       "\n",
       "    .dataframe tbody tr th {\n",
       "        vertical-align: top;\n",
       "    }\n",
       "\n",
       "    .dataframe thead th {\n",
       "        text-align: right;\n",
       "    }\n",
       "</style>\n",
       "<table border=\"1\" class=\"dataframe\">\n",
       "  <thead>\n",
       "    <tr style=\"text-align: right;\">\n",
       "      <th></th>\n",
       "      <th>name</th>\n",
       "      <th>platform</th>\n",
       "      <th>year_of_release</th>\n",
       "      <th>genre</th>\n",
       "      <th>na_sales</th>\n",
       "      <th>eu_sales</th>\n",
       "      <th>jp_sales</th>\n",
       "      <th>other_sales</th>\n",
       "      <th>critic_score</th>\n",
       "      <th>user_score</th>\n",
       "      <th>rating</th>\n",
       "      <th>total_sales</th>\n",
       "    </tr>\n",
       "  </thead>\n",
       "  <tbody>\n",
       "    <tr>\n",
       "      <th>31</th>\n",
       "      <td>Call of Duty: Black Ops 3</td>\n",
       "      <td>PS4</td>\n",
       "      <td>2015</td>\n",
       "      <td>Shooter</td>\n",
       "      <td>6.03</td>\n",
       "      <td>5.86</td>\n",
       "      <td>0.36</td>\n",
       "      <td>2.38</td>\n",
       "      <td>NaN</td>\n",
       "      <td>NaN</td>\n",
       "      <td>NaN</td>\n",
       "      <td>14.63</td>\n",
       "    </tr>\n",
       "    <tr>\n",
       "      <th>42</th>\n",
       "      <td>Grand Theft Auto V</td>\n",
       "      <td>PS4</td>\n",
       "      <td>2014</td>\n",
       "      <td>Action</td>\n",
       "      <td>3.96</td>\n",
       "      <td>6.31</td>\n",
       "      <td>0.38</td>\n",
       "      <td>1.97</td>\n",
       "      <td>97.0</td>\n",
       "      <td>8.3</td>\n",
       "      <td>M</td>\n",
       "      <td>12.62</td>\n",
       "    </tr>\n",
       "    <tr>\n",
       "      <th>77</th>\n",
       "      <td>FIFA 16</td>\n",
       "      <td>PS4</td>\n",
       "      <td>2015</td>\n",
       "      <td>Sports</td>\n",
       "      <td>1.12</td>\n",
       "      <td>6.12</td>\n",
       "      <td>0.06</td>\n",
       "      <td>1.28</td>\n",
       "      <td>82.0</td>\n",
       "      <td>4.3</td>\n",
       "      <td>E</td>\n",
       "      <td>8.58</td>\n",
       "    </tr>\n",
       "    <tr>\n",
       "      <th>87</th>\n",
       "      <td>Star Wars Battlefront (2015)</td>\n",
       "      <td>PS4</td>\n",
       "      <td>2015</td>\n",
       "      <td>Shooter</td>\n",
       "      <td>2.99</td>\n",
       "      <td>3.49</td>\n",
       "      <td>0.22</td>\n",
       "      <td>1.28</td>\n",
       "      <td>NaN</td>\n",
       "      <td>NaN</td>\n",
       "      <td>NaN</td>\n",
       "      <td>7.98</td>\n",
       "    </tr>\n",
       "    <tr>\n",
       "      <th>92</th>\n",
       "      <td>Call of Duty: Advanced Warfare</td>\n",
       "      <td>PS4</td>\n",
       "      <td>2014</td>\n",
       "      <td>Shooter</td>\n",
       "      <td>2.81</td>\n",
       "      <td>3.48</td>\n",
       "      <td>0.14</td>\n",
       "      <td>1.23</td>\n",
       "      <td>83.0</td>\n",
       "      <td>5.7</td>\n",
       "      <td>M</td>\n",
       "      <td>7.66</td>\n",
       "    </tr>\n",
       "  </tbody>\n",
       "</table>\n",
       "</div>"
      ],
      "text/plain": [
       "                              name platform  year_of_release    genre  \\\n",
       "31       Call of Duty: Black Ops 3      PS4             2015  Shooter   \n",
       "42              Grand Theft Auto V      PS4             2014   Action   \n",
       "77                         FIFA 16      PS4             2015   Sports   \n",
       "87    Star Wars Battlefront (2015)      PS4             2015  Shooter   \n",
       "92  Call of Duty: Advanced Warfare      PS4             2014  Shooter   \n",
       "\n",
       "    na_sales  eu_sales  jp_sales  other_sales  critic_score  user_score  \\\n",
       "31      6.03      5.86      0.36         2.38           NaN         NaN   \n",
       "42      3.96      6.31      0.38         1.97          97.0         8.3   \n",
       "77      1.12      6.12      0.06         1.28          82.0         4.3   \n",
       "87      2.99      3.49      0.22         1.28           NaN         NaN   \n",
       "92      2.81      3.48      0.14         1.23          83.0         5.7   \n",
       "\n",
       "   rating  total_sales  \n",
       "31    NaN        14.63  \n",
       "42      M        12.62  \n",
       "77      E         8.58  \n",
       "87    NaN         7.98  \n",
       "92      M         7.66  "
      ]
     },
     "execution_count": 25,
     "metadata": {},
     "output_type": "execute_result"
    }
   ],
   "source": [
    "# для дальнейшей работы сохраним в отдельную переменную только те строки датасета, где платформа - PS4, \n",
    "# а выбранный период - после 2013 года\n",
    "\n",
    "after_crisis=df_games.loc[df_games['year_of_release']>=2014]\n",
    "ps4_games = after_crisis.loc[after_crisis['platform']=='PS4']\n",
    "ps4_games.head()"
   ]
  },
  {
   "cell_type": "code",
   "execution_count": 26,
   "id": "2b8ae3b0",
   "metadata": {},
   "outputs": [
    {
     "name": "stdout",
     "output_type": "stream",
     "text": [
      "Средняя оценка критиками игр платформы PS4: 72\n",
      "Средняя оценка пользователями игр платформы PS4: 6\n"
     ]
    }
   ],
   "source": [
    "# выведем среднюю оценку\n",
    "\n",
    "print('Средняя оценка критиками игр платформы PS4: {0}'.format(int(ps4_games['critic_score'].mean())))\n",
    "\n",
    "print('Средняя оценка пользователями игр платформы PS4: {0}'.format(int(ps4_games['user_score'].mean())))"
   ]
  },
  {
   "cell_type": "code",
   "execution_count": 27,
   "id": "1875bbb9",
   "metadata": {},
   "outputs": [
    {
     "data": {
      "text/plain": [
       "Text(0.5, 1.0, 'Оценка критиков и продажи PS4\\n')"
      ]
     },
     "execution_count": 27,
     "metadata": {},
     "output_type": "execute_result"
    },
    {
     "data": {
      "image/png": "[encoded data removed]",
      "text/plain": [
       "<Figure size 432x288 with 1 Axes>"
      ]
     },
     "metadata": {
      "needs_background": "light"
     },
     "output_type": "display_data"
    }
   ],
   "source": [
    "# построим диаграмму размаха\n",
    "\n",
    "sns.scatterplot(data=ps4_games, x='critic_score', y='total_sales')\n",
    "plt.title('Оценка критиков и продажи PS4\\n')"
   ]
  },
  {
   "cell_type": "markdown",
   "id": "b3731d6f",
   "metadata": {},
   "source": [
    "<div class=\"alert alert-info\">\n",
    "\n",
    "- Большая часть оценки критиков выше среднего, в этой же область находится большинство продаж. Встречается небольшое кол-во негативных отзывов. Кроме того, игра с самым высоким доходом изначально была оценена критиками очень положительно."
   ]
  },
  {
   "cell_type": "code",
   "execution_count": 28,
   "id": "3e39a318",
   "metadata": {},
   "outputs": [
    {
     "data": {
      "text/plain": [
       "Text(0.5, 1.0, 'Оценка пользоваталей и продажи PS4\\n')"
      ]
     },
     "execution_count": 28,
     "metadata": {},
     "output_type": "execute_result"
    },
    {
     "data": {
      "image/png": "[encoded data removed]",
      "text/plain": [
       "<Figure size 432x288 with 1 Axes>"
      ]
     },
     "metadata": {
      "needs_background": "light"
     },
     "output_type": "display_data"
    }
   ],
   "source": [
    "# построим диаграмму размаха\n",
    "\n",
    "sns.scatterplot(data=ps4_games, x='user_score', y='total_sales')\n",
    "plt.title('Оценка пользоваталей и продажи PS4\\n')"
   ]
  },
  {
   "cell_type": "markdown",
   "id": "99ebe895",
   "metadata": {},
   "source": [
    "<div class=\"alert alert-info\">\n",
    "\n",
    " - Даже при оценке 3 заметна игра с достаточно неплохим доходом - возможно, оценка пользоваталей не всегда важна для хороших продаж.\n",
    " - Однако игры с самыми высокими продажами имеют оценку пользователей выше среднего.\n",
    "Большинство продаж также прихожится на иры с оценкой выше среднего."
   ]
  },
  {
   "cell_type": "code",
   "execution_count": 29,
   "id": "9c906cff",
   "metadata": {},
   "outputs": [
    {
     "name": "stdout",
     "output_type": "stream",
     "text": [
      "Корреляция между оценкой критиков и продажами ps4 - 0.4\n",
      "Корреляция между оценкой пользователей и продажами ps4 - 0.02\n"
     ]
    }
   ],
   "source": [
    "# Оценим корреляцию между отзывами и продажами платформы\n",
    "\n",
    "ps4_critic_corr = ps4_games['critic_score'].corr(ps4_games['total_sales'])\n",
    "print(f'Корреляция между оценкой критиков и продажами ps4 - {round(ps4_critic_corr, 2)}')\n",
    "\n",
    "ps4_user_corr = ps4_games['user_score'].corr(ps4_games['total_sales'])\n",
    "print(f'Корреляция между оценкой пользователей и продажами ps4 - {round(ps4_user_corr, 2)}')"
   ]
  },
  {
   "cell_type": "markdown",
   "id": "a7482e18",
   "metadata": {},
   "source": [
    "<div class=\"alert alert-info\">\n",
    "\n",
    " - Корреляционная связь между отзывами критиков и продажами чуть ниже среднего - нельзя однозначно сказать, что отзывы критиков имеют сильное влияние на продажи, это влияние достаточно существенный фактором роста продаж.\n",
    "\n",
    " - Корреляционная связь между отзывами пользователей и продажами очень слабая - отзывы пользоваталей почти не имеют влиния на продажи."
   ]
  },
  {
   "cell_type": "markdown",
   "id": "37fb3f55",
   "metadata": {},
   "source": [
    "**Посмотрим на общую корреляционную связь непопулярной платформы, появившейся в этот же период**"
   ]
  },
  {
   "cell_type": "code",
   "execution_count": 30,
   "id": "28b2ba0f",
   "metadata": {},
   "outputs": [
    {
     "name": "stdout",
     "output_type": "stream",
     "text": [
      "Корреляция между оценкой критиков и продажами PSV - 0.04\n",
      "Корреляция между оценкой пользователей и продажами PSV - 0.13\n"
     ]
    }
   ],
   "source": [
    "psv_games = after_crisis.loc[after_crisis['platform']=='PSV']\n",
    "\n",
    "# Оценим корреляцию между отзывами и продажами платформы\n",
    "\n",
    "psv_critic_corr = psv_games['critic_score'].corr(psv_games['total_sales'])\n",
    "print(f'Корреляция между оценкой критиков и продажами PSV - {round(psv_critic_corr, 2)}')\n",
    "\n",
    "psv_user_corr = psv_games['user_score'].corr(psv_games['total_sales'])\n",
    "print(f'Корреляция между оценкой пользователей и продажами PSV - {round(psv_user_corr, 2)}')"
   ]
  },
  {
   "cell_type": "markdown",
   "id": "bd5831be",
   "metadata": {},
   "source": [
    "<div class=\"alert alert-info\">\n",
    "\n",
    " - Тут видна очень слабая корреляционная связь между отзывами пользователей и продажами - отзывы почти никак не влияют на п продажи.\n",
    " - Влияние отзывов критиков на продажи практически отсутствует"
   ]
  },
  {
   "cell_type": "markdown",
   "id": "db07ff2e",
   "metadata": {},
   "source": [
    "**Посмотрим влияние отзывов по всем платформам, начиная с 2014 года**"
   ]
  },
  {
   "cell_type": "code",
   "execution_count": 31,
   "id": "ca8d2fd1",
   "metadata": {},
   "outputs": [
    {
     "name": "stdout",
     "output_type": "stream",
     "text": [
      "Средняя оценка критиками: 72\n",
      "Средняя оценка пользователями: 5\n"
     ]
    }
   ],
   "source": [
    "# выведем среднюю оценку\n",
    "\n",
    "print('Средняя оценка критиками: {0}'.format(int(after_crisis['critic_score'].mean())))\n",
    "\n",
    "print('Средняя оценка пользователями: {0}'.format(int(after_crisis['user_score'].mean())))"
   ]
  },
  {
   "cell_type": "code",
   "execution_count": 32,
   "id": "956c6212",
   "metadata": {},
   "outputs": [
    {
     "data": {
      "text/plain": [
       "Text(0.5, 1.0, 'Оценка критиков и продажи в целом\\n')"
      ]
     },
     "execution_count": 32,
     "metadata": {},
     "output_type": "execute_result"
    },
    {
     "data": {
      "image/png": "[encoded data removed]",
      "text/plain": [
       "<Figure size 432x288 with 1 Axes>"
      ]
     },
     "metadata": {
      "needs_background": "light"
     },
     "output_type": "display_data"
    }
   ],
   "source": [
    "# построим диаграмму размаха\n",
    "\n",
    "sns.scatterplot(data=after_crisis, x='critic_score', y='total_sales')\n",
    "plt.title('Оценка критиков и продажи в целом\\n')"
   ]
  },
  {
   "cell_type": "markdown",
   "id": "2bcf9317",
   "metadata": {},
   "source": [
    "<div class=\"alert alert-info\">\n",
    "\n",
    " - Несмотря на то, что большая часть оценок критиков все еще находится выше среднего, есть некоторая часть игр, имеющих оценку ниже среднего от критиков - такие игры стабильно имеют самые низкие продажи."
   ]
  },
  {
   "cell_type": "code",
   "execution_count": 33,
   "id": "4d14c6f6",
   "metadata": {},
   "outputs": [
    {
     "data": {
      "text/plain": [
       "Text(0.5, 1.0, 'Оценка пользоваталей и продажи в целом\\n')"
      ]
     },
     "execution_count": 33,
     "metadata": {},
     "output_type": "execute_result"
    },
    {
     "data": {
      "image/png": "[encoded data removed]",
      "text/plain": [
       "<Figure size 432x288 with 1 Axes>"
      ]
     },
     "metadata": {
      "needs_background": "light"
     },
     "output_type": "display_data"
    }
   ],
   "source": [
    "# построим диаграмму размаха\n",
    "\n",
    "sns.scatterplot(data=after_crisis, x='user_score', y='total_sales')\n",
    "plt.title('Оценка пользоваталей и продажи в целом\\n')"
   ]
  },
  {
   "cell_type": "markdown",
   "id": "cffa6901",
   "metadata": {},
   "source": [
    "<div class=\"alert alert-info\">\n",
    "    \n",
    " - Отзывы пользователей распределены более размашисто, вновь наблюдается несколько игр, которые, несмотря на оценку ниже среднего имеют неплохие продажи. Однако самые популярные игры стабильно оцениваются выше среднего."
   ]
  },
  {
   "cell_type": "code",
   "execution_count": 34,
   "id": "10893303",
   "metadata": {},
   "outputs": [
    {
     "name": "stdout",
     "output_type": "stream",
     "text": [
      "Корреляция между оценкой критиков и продажами - 0.33\n",
      "Корреляция между оценкой пользователей и продажами - 0.1\n"
     ]
    }
   ],
   "source": [
    "# посмотрим корреляцию\n",
    "\n",
    "critic_corr = after_crisis['critic_score'].corr(after_crisis['total_sales'])\n",
    "print(f'Корреляция между оценкой критиков и продажами - {round(critic_corr, 2)}')\n",
    "\n",
    "user_corr = after_crisis['user_score'].corr(after_crisis['total_sales'])\n",
    "print(f'Корреляция между оценкой пользователей и продажами - {round(user_corr, 2)}')"
   ]
  },
  {
   "cell_type": "markdown",
   "id": "8ad9232d",
   "metadata": {},
   "source": [
    "<div class=\"alert alert-info\">\n",
    "\n",
    " - Видно, что в целом отзывы критиков имеют небольшое влияние на продажи - чем выше оценка критиков, тем больше продаж и доходов.\n",
    "Оценка пользоваталей на продажи не влияет очень слабо"
   ]
  },
  {
   "cell_type": "markdown",
   "id": "5aaec82c",
   "metadata": {},
   "source": [
    "<div class=\"alert alert-success\">\n",
    "\n",
    "*После изучения отзывов и продаж можно сделать следующие выводы*:\n",
    " - Общая оценка критиков и пользователей по всем платформам по большей мере лежит в области выше среднего. \n",
    " - Отзывы критиков имеют ведущее, хотя и не значительное влияние на продажи - игры с низкой оценкой критиков стабильно имеют низкие продажи.\n",
    " - Отзывы пользоваталей в целом имеют практически минимальное влияние на продажи - в часности, даже с низкой оценкой пользователей некоторые игры могут добиться среднего уровня продаж; но все же самые высокие доходы наблюдаются у игр, оцененных высоко и пользователями, и критиками одновременно"
   ]
  },
  {
   "cell_type": "markdown",
   "id": "e5cc5821",
   "metadata": {},
   "source": [
    "### Жанры игр и продажи "
   ]
  },
  {
   "cell_type": "code",
   "execution_count": 35,
   "id": "62055ef4",
   "metadata": {},
   "outputs": [
    {
     "data": {
      "text/plain": [
       "array(['Shooter', 'Action', 'Role-Playing', 'Sports', 'Fighting',\n",
       "       'Racing', 'Misc', 'Platform', 'Simulation', 'Adventure', 'Puzzle',\n",
       "       'Strategy'], dtype=object)"
      ]
     },
     "execution_count": 35,
     "metadata": {},
     "output_type": "execute_result"
    }
   ],
   "source": [
    "# посмотрим на все виды жанров\n",
    "\n",
    "after_crisis['genre'].unique()"
   ]
  },
  {
   "cell_type": "code",
   "execution_count": 36,
   "id": "dfde8b2d",
   "metadata": {},
   "outputs": [
    {
     "data": {
      "text/plain": [
       "<AxesSubplot:title={'center':'Распеределение продаж по платформам'}, xlabel='genre'>"
      ]
     },
     "execution_count": 36,
     "metadata": {},
     "output_type": "execute_result"
    },
    {
     "data": {
      "image/png": "[encoded data removed]",
      "text/plain": [
       "<Figure size 1080x360 with 1 Axes>"
      ]
     },
     "metadata": {
      "needs_background": "light"
     },
     "output_type": "display_data"
    }
   ],
   "source": [
    "# рассмотрим средние продажи\n",
    "\n",
    "genre_sales_pivot = (after_crisis\n",
    "                     .pivot_table(index='genre', values='total_sales')\n",
    "                     .sort_values(by='total_sales', ascending=False)\n",
    "                    )\n",
    "genre_sales_pivot.plot(kind='bar', title='Распеределение продаж по платформам', figsize=(15,5), grid=True, color='green')"
   ]
  },
  {
   "cell_type": "markdown",
   "id": "6472ebfc",
   "metadata": {},
   "source": [
    "<div class=\"alert alert-info\">\n",
    "\n",
    " - В топ-3 самых стабильно прибыльных жанров входят: шутер, спортивные игры и платформеры.\n",
    " - Топ-3 самых непопулярных жанров - приключения, стратегии и пазлы."
   ]
  },
  {
   "cell_type": "markdown",
   "id": "37a9b2af",
   "metadata": {},
   "source": [
    "##  Пользователи разных регионов"
   ]
  },
  {
   "cell_type": "markdown",
   "id": "c370c707",
   "metadata": {},
   "source": [
    "<div class=\"alert alert-warning\">\n",
    "\n",
    "Определим для пользователя каждого региона:\n",
    " - Самые популярные платформы (топ-5). \n",
    " - Самые популярные жанры (топ-5). \n",
    " - Как влияет рейтинг ESRB на продажи."
   ]
  },
  {
   "cell_type": "raw",
   "id": "02b04e86",
   "metadata": {},
   "source": [
    "Показатели возрастного рейтинга ESRB в таблице:\n",
    "\n",
    "\"AO\" (Adults Only 18+) — Только для взрослых\n",
    "\"E\" (Everyone) — Для всех\n",
    "\"E10+\" (Everyone 10 and older) — Для всех от 10 лет и старше\n",
    "\"EC\" (Early childhood) — Для детей младшего возраста\n",
    "\"K-A\" (Kids to Adults)— Для детей и взрослых\n",
    "\"M\" (Mature) — Для взрослых\n",
    "\"RP\" (Rating Pending) — Рейтинг ожидается\n",
    "\"T\" (Teen) — Подросткам"
   ]
  },
  {
   "cell_type": "markdown",
   "id": "2624a94f",
   "metadata": {},
   "source": [
    "### Северная Америка "
   ]
  },
  {
   "cell_type": "code",
   "execution_count": 37,
   "id": "f3bf0223",
   "metadata": {},
   "outputs": [
    {
     "data": {
      "text/plain": [
       "<AxesSubplot:title={'center':'Продажи по платформам в Северной Америке в млн.копий\\n'}, xlabel='platform', ylabel='sales'>"
      ]
     },
     "execution_count": 37,
     "metadata": {},
     "output_type": "execute_result"
    },
    {
     "data": {
      "image/png": "[encoded data removed]",
      "text/plain": [
       "<Figure size 1080x216 with 1 Axes>"
      ]
     },
     "metadata": {
      "needs_background": "light"
     },
     "output_type": "display_data"
    }
   ],
   "source": [
    "# NA\n",
    "\n",
    "# выведем кол-во продаж по платформам в Северной Америке в порядке убывания\n",
    "\n",
    "na_platform = (after_crisis\n",
    "               .groupby('platform')\n",
    "               .agg({'na_sales':'sum'})\n",
    "               .sort_values(by='na_sales', ascending=False)\n",
    "              )\n",
    "\n",
    "na_platform.plot(kind='bar', \n",
    "                 title='Продажи по платформам в Северной Америке в млн.копий\\n',\n",
    "                 figsize=(15,3),\n",
    "                 grid=True,\n",
    "                 color='lightblue',\n",
    "                 ylabel='sales'\n",
    "                )"
   ]
  },
  {
   "cell_type": "code",
   "execution_count": 38,
   "id": "ba487195",
   "metadata": {},
   "outputs": [
    {
     "data": {
      "text/plain": [
       "<AxesSubplot:title={'center':'Продажи по жанрам в Северной Америке в млн.копий\\n'}, xlabel='genre', ylabel='sales'>"
      ]
     },
     "execution_count": 38,
     "metadata": {},
     "output_type": "execute_result"
    },
    {
     "data": {
      "image/png": "[encoded data removed]",
      "text/plain": [
       "<Figure size 1080x216 with 1 Axes>"
      ]
     },
     "metadata": {
      "needs_background": "light"
     },
     "output_type": "display_data"
    }
   ],
   "source": [
    "# NA\n",
    "\n",
    "# выведем кол-во продаж по жанрам в Северной Америке в порядке убывания\n",
    "\n",
    "na_genre = (after_crisis\n",
    "            .groupby('genre')\n",
    "            .agg({'na_sales':'sum'})\n",
    "            .sort_values(by='na_sales', ascending=False)\n",
    "           )\n",
    "\n",
    "\n",
    "na_genre.plot(kind='bar', \n",
    "                 title='Продажи по жанрам в Северной Америке в млн.копий\\n',\n",
    "                 figsize=(15,3),\n",
    "                 grid=True,\n",
    "                 color='lightblue',\n",
    "                 ylabel='sales'\n",
    "                )"
   ]
  },
  {
   "cell_type": "code",
   "execution_count": 39,
   "id": "6b65b7c5",
   "metadata": {},
   "outputs": [
    {
     "data": {
      "text/plain": [
       "<AxesSubplot:title={'center':'Продажи по возрастному рейтингу в Северной Америке в млн.копий\\n'}, xlabel='rating', ylabel='sales'>"
      ]
     },
     "execution_count": 39,
     "metadata": {},
     "output_type": "execute_result"
    },
    {
     "data": {
      "image/png": "[encoded data removed]",
      "text/plain": [
       "<Figure size 1080x216 with 1 Axes>"
      ]
     },
     "metadata": {
      "needs_background": "light"
     },
     "output_type": "display_data"
    }
   ],
   "source": [
    "# NA\n",
    "\n",
    "# выведем кол-во продаж по возрастному рейтингу в Северной Америке в порядке убывания\n",
    "\n",
    "na_rating = (after_crisis\n",
    "            .groupby('rating')\n",
    "            .agg({'na_sales':'sum'})\n",
    "            .sort_values(by='na_sales', ascending=False)\n",
    "           )\n",
    "\n",
    "na_rating.plot(kind='bar', \n",
    "                 title='Продажи по возрастному рейтингу в Северной Америке в млн.копий\\n',\n",
    "                 figsize=(15,3),\n",
    "                 grid=True,\n",
    "                 color='lightblue',\n",
    "                 ylabel='sales'\n",
    "                )"
   ]
  },
  {
   "cell_type": "markdown",
   "id": "0bd07fe7",
   "metadata": {},
   "source": [
    "<div class=\"alert alert-success\">\n",
    "\n",
    " - В Северной Америке в топ-5 платформ входят: PS4, XOne, X360, 3DS, PS3. Первые 2 платформы находятся в сильном отрыве от других кол-вом пользователей.\n",
    " - Топ-5 самых популярных жанры Северной Америки - шутер, экшн, спорт, ролевые игры и misc.\n",
    " - Больше всего в Северной Америке пользуются популярностью игры для взрослых, а втором месте игры для всех возрастов, у которых в 2 раза меньше продаж, чем у топ-1. "
   ]
  },
  {
   "cell_type": "markdown",
   "id": "871a364d",
   "metadata": {},
   "source": [
    "### Европа "
   ]
  },
  {
   "cell_type": "code",
   "execution_count": 40,
   "id": "09f0a29b",
   "metadata": {},
   "outputs": [
    {
     "data": {
      "text/plain": [
       "<AxesSubplot:title={'center':'Продажи по платформам в Европе в млн.копий\\n'}, xlabel='platform', ylabel='sales'>"
      ]
     },
     "execution_count": 40,
     "metadata": {},
     "output_type": "execute_result"
    },
    {
     "data": {
      "image/png": "[encoded data removed]",
      "text/plain": [
       "<Figure size 1080x216 with 1 Axes>"
      ]
     },
     "metadata": {
      "needs_background": "light"
     },
     "output_type": "display_data"
    }
   ],
   "source": [
    "# продажи по платформам в Европе\n",
    "\n",
    "eu_platform = (after_crisis\n",
    "               .groupby('platform')\n",
    "               .agg({'eu_sales':'sum'})\n",
    "               .sort_values(by='eu_sales', ascending=False)\n",
    "              )\n",
    "\n",
    "eu_platform.plot(kind='bar', \n",
    "                 title='Продажи по платформам в Европе в млн.копий\\n',\n",
    "                 figsize=(15,3),\n",
    "                 grid=True,\n",
    "                 color='orange',\n",
    "                 ylabel='sales'\n",
    "                )"
   ]
  },
  {
   "cell_type": "code",
   "execution_count": 41,
   "id": "79b361e1",
   "metadata": {},
   "outputs": [
    {
     "data": {
      "text/plain": [
       "<AxesSubplot:title={'center':'Продажи по жанрам в Европе в млн.копий\\n'}, xlabel='genre', ylabel='sales'>"
      ]
     },
     "execution_count": 41,
     "metadata": {},
     "output_type": "execute_result"
    },
    {
     "data": {
      "image/png": "[encoded data removed]",
      "text/plain": [
       "<Figure size 1080x216 with 1 Axes>"
      ]
     },
     "metadata": {
      "needs_background": "light"
     },
     "output_type": "display_data"
    }
   ],
   "source": [
    "# продажи по жанрам в Европе\n",
    "\n",
    "eu_genre = (after_crisis\n",
    "               .groupby('genre')\n",
    "               .agg({'eu_sales':'sum'})\n",
    "               .sort_values(by='eu_sales', ascending=False)\n",
    "              )\n",
    "\n",
    "eu_genre.plot(kind='bar', \n",
    "                 title='Продажи по жанрам в Европе в млн.копий\\n',\n",
    "                 figsize=(15,3),\n",
    "                 grid=True,\n",
    "                 color='orange',\n",
    "                 ylabel='sales'\n",
    "                )"
   ]
  },
  {
   "cell_type": "code",
   "execution_count": 42,
   "id": "fa5b64a5",
   "metadata": {},
   "outputs": [
    {
     "data": {
      "text/plain": [
       "<AxesSubplot:title={'center':'Продажи по возрастному рейтингу в Европе в млн.копий\\n'}, xlabel='rating', ylabel='sales'>"
      ]
     },
     "execution_count": 42,
     "metadata": {},
     "output_type": "execute_result"
    },
    {
     "data": {
      "image/png": "[encoded data removed]",
      "text/plain": [
       "<Figure size 1080x216 with 1 Axes>"
      ]
     },
     "metadata": {
      "needs_background": "light"
     },
     "output_type": "display_data"
    }
   ],
   "source": [
    "# продажи по возрастному рейтингу в Европе\n",
    "\n",
    "eu_rating = (after_crisis\n",
    "               .groupby('rating')\n",
    "               .agg({'eu_sales':'sum'})\n",
    "               .sort_values(by='eu_sales', ascending=False)\n",
    "              )\n",
    "\n",
    "eu_rating.plot(kind='bar', \n",
    "                 title='Продажи по возрастному рейтингу в Европе в млн.копий\\n',\n",
    "                 figsize=(15,3),\n",
    "                 grid=True,\n",
    "                 color='orange',\n",
    "                 ylabel='sales'\n",
    "                )"
   ]
  },
  {
   "cell_type": "markdown",
   "id": "2386e1c8",
   "metadata": {},
   "source": [
    "<div class=\"alert alert-success\">\n",
    "\n",
    " - В топ-5 популярных платформ Европы входят: PS4, XOne, PS3, PC и 3DS. \n",
    " - Топ-5 популярных жанров Европы: экшн, шутер, спорт, ролевые игры и гонки.\n",
    " - Самые популярные игры - для взрослых, всех возрастов и подросткам."
   ]
  },
  {
   "cell_type": "markdown",
   "id": "a38e35ab",
   "metadata": {},
   "source": [
    "### Япония "
   ]
  },
  {
   "cell_type": "code",
   "execution_count": 43,
   "id": "d662b60d",
   "metadata": {},
   "outputs": [
    {
     "data": {
      "text/plain": [
       "<AxesSubplot:title={'center':'Продажи по платформам в Японии в млн.копий\\n'}, xlabel='platform', ylabel='sales'>"
      ]
     },
     "execution_count": 43,
     "metadata": {},
     "output_type": "execute_result"
    },
    {
     "data": {
      "image/png": "[encoded data removed]",
      "text/plain": [
       "<Figure size 1080x216 with 1 Axes>"
      ]
     },
     "metadata": {
      "needs_background": "light"
     },
     "output_type": "display_data"
    }
   ],
   "source": [
    "# продажи по платформам в Японии \n",
    "\n",
    "jp_platform = (after_crisis\n",
    "               .groupby('platform')\n",
    "               .agg({'jp_sales':'sum'})\n",
    "               .sort_values(by='jp_sales', ascending=False)\n",
    "              )\n",
    "\n",
    "jp_platform.plot(kind='bar', \n",
    "                 title='Продажи по платформам в Японии в млн.копий\\n',\n",
    "                 figsize=(15,3),\n",
    "                 grid=True,\n",
    "                 color='red',\n",
    "                 ylabel='sales'\n",
    "                )"
   ]
  },
  {
   "cell_type": "code",
   "execution_count": 44,
   "id": "62ef1aa3",
   "metadata": {},
   "outputs": [
    {
     "data": {
      "text/plain": [
       "<AxesSubplot:title={'center':'Продажи по жанрам в Японии в млн.копий\\n'}, xlabel='genre', ylabel='sales'>"
      ]
     },
     "execution_count": 44,
     "metadata": {},
     "output_type": "execute_result"
    },
    {
     "data": {
      "image/png": "[encoded data removed]",
      "text/plain": [
       "<Figure size 1080x216 with 1 Axes>"
      ]
     },
     "metadata": {
      "needs_background": "light"
     },
     "output_type": "display_data"
    }
   ],
   "source": [
    "# продажи по жанрам в Японии \n",
    "\n",
    "jp_genre = (after_crisis\n",
    "               .groupby('genre')\n",
    "               .agg({'jp_sales':'sum'})\n",
    "               .sort_values(by='jp_sales', ascending=False)\n",
    "              )\n",
    "\n",
    "jp_genre.plot(kind='bar', \n",
    "                 title='Продажи по жанрам в Японии в млн.копий\\n',\n",
    "                 figsize=(15,3),\n",
    "                 grid=True,\n",
    "                 color='red',\n",
    "                 ylabel='sales'\n",
    "                )"
   ]
  },
  {
   "cell_type": "code",
   "execution_count": 45,
   "id": "92955135",
   "metadata": {},
   "outputs": [
    {
     "data": {
      "text/plain": [
       "<AxesSubplot:title={'center':'Продажи по возрастному рейтингу в Японии в млн.копий\\n'}, xlabel='rating', ylabel='sales'>"
      ]
     },
     "execution_count": 45,
     "metadata": {},
     "output_type": "execute_result"
    },
    {
     "data": {
      "image/png": "[encoded data removed]",
      "text/plain": [
       "<Figure size 1080x216 with 1 Axes>"
      ]
     },
     "metadata": {
      "needs_background": "light"
     },
     "output_type": "display_data"
    }
   ],
   "source": [
    "# продажи по возрастному рейтингу в Японии \n",
    "\n",
    "jp_rating = (after_crisis\n",
    "               .groupby('rating')\n",
    "               .agg({'jp_sales':'sum'})\n",
    "               .sort_values(by='jp_sales', ascending=False)\n",
    "              )\n",
    "\n",
    "jp_rating.plot(kind='bar', \n",
    "                 title='Продажи по возрастному рейтингу в Японии в млн.копий\\n',\n",
    "                 figsize=(15,3),\n",
    "                 grid=True,\n",
    "                 color='red',\n",
    "                 ylabel='sales'\n",
    "                )"
   ]
  },
  {
   "cell_type": "markdown",
   "id": "696740d8",
   "metadata": {},
   "source": [
    "<div class=\"alert alert-success\">\n",
    "\n",
    " - Топ-5 платформ Японии: 3DS, PS4, PSV, PS3, WiiU. 3DS находится в сильном отрыве по популярности - число ее пользователей практически сопоставимо с числом пользователями других платформ из топ-5.\n",
    " - Топ-5 популярных жанров Японии: ролевые игры, экшн, файтинги, misс и шутеры.\n",
    " - Больше всего в Японии предпочитают игры для для подростков, затем идут игры для всех возрастов и взрослых."
   ]
  },
  {
   "cell_type": "markdown",
   "id": "8023217f",
   "metadata": {},
   "source": [
    "# Гипотезы "
   ]
  },
  {
   "cell_type": "markdown",
   "id": "21c1a313",
   "metadata": {},
   "source": [
    "## Гипотеза 1"
   ]
  },
  {
   "cell_type": "markdown",
   "id": "7f6c61bd",
   "metadata": {},
   "source": [
    "**Средние пользовательские рейтинги платформ Xbox One и PC одинаковые**"
   ]
  },
  {
   "cell_type": "markdown",
   "id": "b6cdc0e4",
   "metadata": {},
   "source": [
    " - **Нулевая гипотеза H0**: *рейтинги одинаковые* \n",
    " - **Альтернативная гипотеза H1**: *рейтинги не равны* "
   ]
  },
  {
   "cell_type": "code",
   "execution_count": 46,
   "id": "b5f30251",
   "metadata": {},
   "outputs": [
    {
     "name": "stdout",
     "output_type": "stream",
     "text": [
      "Не можем отвергнуть нулевую гипотезу\n"
     ]
    }
   ],
   "source": [
    "# отсортируем 2 массива по данным платформам и сохраним в переменные\n",
    "\n",
    "xone = df_games.loc[df_games['platform'] == 'XOne']\n",
    "pc = df_games.loc[df_games['platform'] == 'PC']\n",
    "\n",
    "# зададим уровень стат. значимости и проверим нулевую гипотезу \n",
    "\n",
    "alpha = .05\n",
    "results = st.ttest_ind(xone['user_score'], pc['user_score'])\n",
    "if results.pvalue < alpha:\n",
    "    print('Отвергаем нулевую гипотезу')\n",
    "else: \n",
    "    print('Не можем отвергнуть нулевую гипотезу') "
   ]
  },
  {
   "cell_type": "markdown",
   "id": "6f57a169",
   "metadata": {},
   "source": [
    "<div class=\"alert alert-success\">\n",
    "\n",
    "*Средние пользовательские рейтинги платформ Xbox One и PC не равны.*"
   ]
  },
  {
   "cell_type": "markdown",
   "id": "4aa3dd82",
   "metadata": {},
   "source": [
    "## Гипотеза 2 "
   ]
  },
  {
   "cell_type": "markdown",
   "id": "6b7cafea",
   "metadata": {},
   "source": [
    "**Средние пользовательские рейтинги жанров Action (англ. «действие», экшен-игры) и Sports (англ. «спортивные соревнования») одинаковые.**"
   ]
  },
  {
   "cell_type": "markdown",
   "id": "9f8bc05f",
   "metadata": {},
   "source": [
    " - **Нулевая гипотеза H0**: *рейтинги одинаковые* \n",
    " - **Альтернативная гипотеза H1**: *рейтинг жанра экшн выше* "
   ]
  },
  {
   "cell_type": "code",
   "execution_count": 47,
   "id": "560fe4d0",
   "metadata": {},
   "outputs": [
    {
     "name": "stdout",
     "output_type": "stream",
     "text": [
      "Не можем отвергнуть нулевую гипотезу\n"
     ]
    }
   ],
   "source": [
    "# отсортируем 2 массива по данным жанрам и сохраним в переменные\n",
    "\n",
    "action = df_games.loc[df_games['genre'] == 'Action']\n",
    "sport = df_games.loc[df_games['genre'] == 'Sports']\n",
    "\n",
    "# зададим уровень стат. значимости и проверим нулевую гипотезу \n",
    "\n",
    "alpha = .01\n",
    "results = st.ttest_ind(action['user_score'], sport['user_score'])\n",
    "if (results.pvalue/2 < alpha) and (sport['user_score'].mean() < action['user_score'].mean()):\n",
    "    print('Отвергаем нулевую гипотезу')\n",
    "else: \n",
    "    print('Не можем отвергнуть нулевую гипотезу')"
   ]
  },
  {
   "cell_type": "markdown",
   "id": "ba0bee18",
   "metadata": {},
   "source": [
    "<div class=\"alert alert-success\">\n",
    "\n",
    "*Средний рейтинг жанра экшн выше рейнига спортивных игр*"
   ]
  },
  {
   "cell_type": "markdown",
   "id": "4ca9f07b",
   "metadata": {},
   "source": [
    "# Общий вывод"
   ]
  },
  {
   "cell_type": "markdown",
   "id": "3c650c4e",
   "metadata": {},
   "source": [
    "<div class=\"alert alert-danger\">  \n",
    "\n",
    "**Общая информация**\n",
    "\n",
    " - В 80-е и начало 90-х сфера игр только зарождалась, поэтому в данные период вышло менее всего игр. В середине-конце 90-х начался рост количества выпускаемых игр, а после 2011 года начался спад. \n",
    " - В среднем каждые 2 года появляется новая платформа.\n",
    " - Практически на всех платформах есть общая тенденция - наличие сильно выделяющихся из общей массы игр, которые приносят очень высокий доход на общем фоне.\n",
    " - В топ-3 самых прибыльных популярных жанров входят: шутер, спортивные игры и платформеры.\n",
    " - Топ-3 самых непопулярных жанров - приключения, стратегии и пазлы.\n",
    " \n",
    "**Изменение лидеров в кризис**\n",
    "\n",
    " - Выделяется топ платформ, которые набирали популярность до общего спада кол-ва выпускаемых игр удержали первенство. Эти платформы являются потенциально наиболее прибыльными и выгодными:\n",
    "    - Топ-3: PS4, XOne, 3DS. \n",
    "    - Топ-5: PS4, XOne, 3DS, PS3, X360.\n",
    "При этом 3DS и PS3 были более популярны перед кризисом в 2010 году, чем в последние 2 года. А XOne набрала популярность именно в последние года, поэтому возможно, что в будущем она может завоевать еще большую популярность.    \n",
    "   \n",
    " - Совсем небольшую популярность получили только появившиеся после 2010 года WiiU и PSV. Эти платформы достаточно рискованные для выпуска на них продукта.\n",
    " \n",
    "**Оценка критиками и пользователями**\n",
    "\n",
    " - Общая оценка критиков и пользователей по всем платформам после 2014 года лежит в области выше среднего. \n",
    " - Отзывы критиков имеют ведущее, хотя и не значительное влияние на продажи - игры с низкой оценкой критиков стабильно имеют низкие продажи.\n",
    " - Отзывы пользоваталей в целом имеют очень слабое влияние на продажи - в часности, даже с низкой оценкой пользователей некоторые игры могут добиться среднего уровня продаж; но все же самые высокие доходы наблюдаются у игр, оцененных высоко и пользователями, и критиками одновременно.\n",
    "\n",
    "**Отличие пользователей по регионам**\n",
    "\n",
    " - Пользователи Америки и Европы в общем имеют довольно схожие черты, пользователи Японии очень сильно от них отличаются.\n",
    " - В Европе и Америке предпочитают использовать PS4 и XOne, а в Японии крайне большой популярностью пользуется 3DS.\n",
    " - Экшн достаточно популярный жанр для всех регионов, но в Северной Америке чуть более популярен шутер, а в Японии - ролевые игры.\n",
    " - Пользователи Европы и Америки предпочитают игры для взрослых и всех возрастов, в Японии в первую очередь популярностью пользуются игры для подростков, а затем игры для всех возрастов.\n",
    " \n",
    "**Мнение о потентиально прибыльном продукте**\n",
    "\n",
    " - Игры жанра экшн будут одинаково хорошо встречены во всех регионах. При упоре на Японию стоит больше внимания уделить ролевым играм.\n",
    " - Предпочтительно выпускать игры на PS4 или XOne на общий рынок, либо на 3DS сугубо для Японии.\n",
    " - Для общего рынка самым лучшим выбором будет игра для всех возрастов, для Европы и Америки - для взрослых, а для Японии - для подростков.\n",
    " - Мнение критиков об игре будет в средней степени влиять на продажи, а для максимального дохода необходимо хорошее мнение об игре и от критиков, и от пользователей."
   ]
  }
 ],
 "metadata": {
  "kernelspec": {
   "display_name": "Python 3 (ipykernel)",
   "language": "python",
   "name": "python3"
  },
  "language_info": {
   "codemirror_mode": {
    "name": "ipython",
    "version": 3
   },
   "file_extension": ".py",
   "mimetype": "text/x-python",
   "name": "python",
   "nbconvert_exporter": "python",
   "pygments_lexer": "ipython3",
   "version": "3.9.12"
  },
  "toc": {
   "base_numbering": 1,
   "nav_menu": {},
   "number_sections": true,
   "sideBar": true,
   "skip_h1_title": false,
   "title_cell": "Table of Contents",
   "title_sidebar": "Contents",
   "toc_cell": false,
   "toc_position": {
    "height": "calc(100% - 180px)",
    "left": "10px",
    "top": "150px",
    "width": "303.837px"
   },
   "toc_section_display": true,
   "toc_window_display": true
  }
 },
 "nbformat": 4,
 "nbformat_minor": 5
}
